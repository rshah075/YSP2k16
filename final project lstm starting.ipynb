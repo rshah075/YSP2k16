{
 "cells": [
  {
   "cell_type": "code",
   "execution_count": 13,
   "metadata": {
    "collapsed": true
   },
   "outputs": [],
   "source": [
    "\n",
    "import os\n",
    "#choose \"cpu\" or \"gpu\"\n",
    "os.environ['THEANO FLAGS']= 'device=gpu'\n",
    "\n",
    "#following line is useful for fast compilation while using Cpu\n",
    "#os.environ['THEANO FLAGS']= 'mode=FAST_COMPILE'\n",
    "\n",
    "#following line is useful for fast compilation while using Gpu\n",
    "os.environ['THEANO FLAGS']= 'optimizer=fast_compile'"
   ]
  },
  {
   "cell_type": "code",
   "execution_count": 209,
   "metadata": {
    "collapsed": true
   },
   "outputs": [],
   "source": [
    "\n",
    "import matplotlib.pyplot as plt\n",
    "import random\n",
    "import keras as model\n",
    "from keras.models import Sequential\n",
    "from keras.layers import Dense, Dropout, Activation, Flatten\n",
    "from keras.layers import Convolution2D, MaxPooling2D\n",
    "from keras.utils import np_utils\n",
    "% matplotlib inline"
   ]
  },
  {
   "cell_type": "code",
   "execution_count": 9,
   "metadata": {
    "collapsed": false
   },
   "outputs": [],
   "source": [
    "data = np.loadtxt(\"focus_baseline.csv\", delimiter=\",\", skiprows=1)"
   ]
  },
  {
   "cell_type": "code",
   "execution_count": 326,
   "metadata": {
    "collapsed": false
   },
   "outputs": [
    {
     "name": "stdout",
     "output_type": "stream",
     "text": [
      "Train on 20000 samples, validate on 2000 samples\n",
      "Epoch 1/5\n",
      "20000/20000 [==============================] - 27s - loss: 0.1839 - acc: 0.9471 - val_loss: 1.9687 - val_acc: 0.5000\n",
      "Epoch 2/5\n",
      "20000/20000 [==============================] - 27s - loss: 0.1639 - acc: 0.9500 - val_loss: 2.1176 - val_acc: 0.5000\n",
      "Epoch 3/5\n",
      "20000/20000 [==============================] - 27s - loss: 0.1635 - acc: 0.9500 - val_loss: 2.1791 - val_acc: 0.5000\n",
      "Epoch 4/5\n",
      "20000/20000 [==============================] - 27s - loss: 0.1634 - acc: 0.9500 - val_loss: 2.2498 - val_acc: 0.5000\n",
      "Epoch 5/5\n",
      "20000/20000 [==============================] - 27s - loss: 0.1633 - acc: 0.9500 - val_loss: 2.3081 - val_acc: 0.5000\n"
     ]
    },
    {
     "data": {
      "text/plain": [
       "<keras.callbacks.History at 0x7fcd39e79d50>"
      ]
     },
     "execution_count": 326,
     "metadata": {},
     "output_type": "execute_result"
    }
   ],
   "source": [
    "from keras.models import Sequential\n",
    "from keras.layers import LSTM, Dense\n",
    "import numpy as np\n",
    "\n",
    "data_dim = 1\n",
    "timesteps = 50\n",
    "nb_classes = 2\n",
    "\n",
    "def func1(x):\n",
    "    ans = (x)*np.sin(x+(0.1*random.random()))+0.1*random.random()\n",
    "    return ans\n",
    "def func2(x):\n",
    "    ans = (-1*x)*np.sin(x+(0.1*random.random()))+0.1*random.random()\n",
    "    return ans\n",
    "\n",
    "original_x = np.linspace(-100,100,10000)\n",
    "\n",
    "y_train = np.zeros((20000,2))\n",
    "x_train1=np.zeros((10000,50, data_dim))\n",
    "x_train2=np.zeros((10000,50, data_dim))\n",
    "for n in range(0,10000):\n",
    "    for x in range(0,50):\n",
    "        x_train1[n,x] = func1(x)\n",
    "        y_train[n,0]=1\n",
    "        y_train[n,1]=0\n",
    "for n in range(0,10000):\n",
    "    for x in range(0,50):\n",
    "        x_train2[n,x] = func2(x)\n",
    "        y_train[n+10000,0]=0\n",
    "        y_train[n+10000,1]=1\n",
    "all_xtrain = np.concatenate((x_train1,x_train2))\n",
    "\n",
    "y_test = np.zeros((2000,2))\n",
    "x_test1=np.zeros((1000,50, data_dim))\n",
    "x_test2=np.zeros((1000,50, data_dim))\n",
    "for n in range(0,1000):\n",
    "    for x in range(0,50):\n",
    "        x_test1[n,x] = func1(x)\n",
    "        y_test[n,0]=1\n",
    "        y_test[n,1]=0\n",
    "for n in range(0,1000):\n",
    "    for x in range(0,50):\n",
    "        x_test2[n,x] = func2(x)\n",
    "        y_train[n+1000,0]=0\n",
    "        y_train[n+1000,1]=1\n",
    "all_xtest= np.concatenate((x_test1,x_test2))\n",
    "\n",
    "model = Sequential()\n",
    "model.add(LSTM(32, return_sequences=True,\n",
    "               input_shape=(timesteps, data_dim)))  # returns a sequence of vectors of dimension 32\n",
    "model.add(LSTM(32))  # return a single vector of dimension 32\n",
    "model.add(Dense(2, activation='softmax'))\n",
    "\n",
    "model.compile(loss='binary_crossentropy',\n",
    "              optimizer='rmsprop',\n",
    "              metrics=['accuracy'])\n",
    "\n",
    "model.fit(all_xtrain, y_train,\n",
    "          batch_size=64, nb_epoch=1,\n",
    "          validation_data=(all_xtest, y_test), shuffle=True)"
   ]
  }
 ],
 "metadata": {
  "kernelspec": {
   "display_name": "Python 2",
   "language": "python",
   "name": "python2"
  },
  "language_info": {
   "codemirror_mode": {
    "name": "ipython",
    "version": 2
   },
   "file_extension": ".py",
   "mimetype": "text/x-python",
   "name": "python",
   "nbconvert_exporter": "python",
   "pygments_lexer": "ipython2",
   "version": "2.7.11"
  }
 },
 "nbformat": 4,
 "nbformat_minor": 0
}
