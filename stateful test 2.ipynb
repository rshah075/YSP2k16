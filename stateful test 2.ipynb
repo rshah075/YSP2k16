{
 "cells": [
  {
   "cell_type": "code",
   "execution_count": 1,
   "metadata": {
    "collapsed": false
   },
   "outputs": [
    {
     "name": "stderr",
     "output_type": "stream",
     "text": [
      "Using Theano backend.\n",
      "Using gpu device 0: GeForce GTX 480 (CNMeM is disabled, cuDNN not available)\n"
     ]
    }
   ],
   "source": [
    "from keras.models import Sequential\n",
    "from keras.layers import LSTM, Dense, Dropout\n",
    "import numpy as np\n",
    "\n",
    "data_dim = 4\n",
    "timesteps = 50\n",
    "nb_classes = 2\n",
    "batch_size = 100\n",
    "rows = 575\n",
    "signal_num = [3,4,5,15]\n",
    "\n",
    "# set up model\n",
    "model = Sequential()\n",
    "model.add(LSTM(128, return_sequences=True, stateful=True,\n",
    "               batch_input_shape=(batch_size, timesteps, data_dim)))\n",
    "\n",
    "model.add(LSTM(128, stateful=True))\n",
    "\n",
    "\n",
    "model.add(Dense(2, activation='softmax'))\n",
    "\n",
    "model.compile(loss='categorical_crossentropy',\n",
    "              optimizer='rmsprop',\n",
    "              metrics=['accuracy'])"
   ]
  },
  {
   "cell_type": "code",
   "execution_count": 2,
   "metadata": {
    "collapsed": true
   },
   "outputs": [],
   "source": [
    "#get focused data\n",
    "y_train = np.zeros((rows*2, nb_classes))\n",
    "classes = np.zeros(rows*2)\n",
    "focusedData = np.loadtxt(\"focus_base.csv\", delimiter=\",\", skiprows=1)\n",
    "t = 0\n",
    "x = 0\n",
    "focusedSignals = np.zeros((rows, timesteps, 4))\n",
    "signal_num = [3,4,5,15]\n",
    "signal = 0\n",
    "\n",
    "for n in signal_num:\n",
    "    t = 0\n",
    "    x=0\n",
    "    x_plus=x+timesteps\n",
    "    while t < rows:\n",
    "        points = focusedData[x:x_plus, n]\n",
    "        focusedSignals[t,0:timesteps,signal] = points\n",
    "        t+=1\n",
    "        x+=20\n",
    "        x_plus=x+50\n",
    "    signal+=1\n",
    "\n",
    "#set one-hot\n",
    "for i in range(0,rows):\n",
    "    y_train[i][0]=1\n",
    "    y_train[i][1]=0\n",
    "    classes[i]=1\n",
    "\n",
    "#get scared data\n",
    "scaredData = np.loadtxt(\"scared.txt\", delimiter=\",\", skiprows=1)\n",
    "t = 0\n",
    "x = 0\n",
    "\n",
    "scaredSignals = np.zeros((rows, timesteps, data_dim))\n",
    "signal_num = [15,4,3,5]\n",
    "signal = 0\n",
    "\n",
    "for n in signal_num:\n",
    "    t = 0\n",
    "    x = 0\n",
    "    x_plus=x+timesteps\n",
    "    while t < rows:\n",
    "        points = scaredData[x:x_plus, n]\n",
    "        scaredSignals[t,0:timesteps,signal] = points\n",
    "        t+=1\n",
    "        x+=20\n",
    "        x_plus=x+50\n",
    "    signal+=1\n",
    "\n",
    "#set focues one-hot\n",
    "for i in range(rows, rows*2):\n",
    "    y_train[i][0]=0\n",
    "    y_train[i][1]=1\n",
    "    classes[i]=0\n",
    "    \n",
    "signals = np.vstack((focusedSignals,scaredSignals))"
   ]
  },
  {
   "cell_type": "code",
   "execution_count": 3,
   "metadata": {
    "collapsed": false
   },
   "outputs": [
    {
     "ename": "Exception",
     "evalue": "In a stateful network, you should only pass inputs with a number of samples that can be divided by the batch size. Found: 1150 samples",
     "output_type": "error",
     "traceback": [
      "\u001b[1;31m---------------------------------------------------------------------------\u001b[0m",
      "\u001b[1;31mException\u001b[0m                                 Traceback (most recent call last)",
      "\u001b[1;32m<ipython-input-3-b47fd8a5b9c9>\u001b[0m in \u001b[0;36m<module>\u001b[1;34m()\u001b[0m\n\u001b[0;32m      1\u001b[0m \u001b[1;31m#fit\u001b[0m\u001b[1;33m\u001b[0m\u001b[1;33m\u001b[0m\u001b[0m\n\u001b[0;32m      2\u001b[0m model.fit(signals, y_train, shuffle = True,\n\u001b[1;32m----> 3\u001b[1;33m           batch_size=batch_size, nb_epoch=200, verbose = 1)\n\u001b[0m",
      "\u001b[1;32m/home/rohanshah/anaconda2/lib/python2.7/site-packages/keras/models.pyc\u001b[0m in \u001b[0;36mfit\u001b[1;34m(self, x, y, batch_size, nb_epoch, verbose, callbacks, validation_split, validation_data, shuffle, class_weight, sample_weight, **kwargs)\u001b[0m\n\u001b[0;32m    406\u001b[0m                               \u001b[0mshuffle\u001b[0m\u001b[1;33m=\u001b[0m\u001b[0mshuffle\u001b[0m\u001b[1;33m,\u001b[0m\u001b[1;33m\u001b[0m\u001b[0m\n\u001b[0;32m    407\u001b[0m                               \u001b[0mclass_weight\u001b[0m\u001b[1;33m=\u001b[0m\u001b[0mclass_weight\u001b[0m\u001b[1;33m,\u001b[0m\u001b[1;33m\u001b[0m\u001b[0m\n\u001b[1;32m--> 408\u001b[1;33m                               sample_weight=sample_weight)\n\u001b[0m\u001b[0;32m    409\u001b[0m \u001b[1;33m\u001b[0m\u001b[0m\n\u001b[0;32m    410\u001b[0m     def evaluate(self, x, y, batch_size=32, verbose=1,\n",
      "\u001b[1;32m/home/rohanshah/anaconda2/lib/python2.7/site-packages/keras/engine/training.pyc\u001b[0m in \u001b[0;36mfit\u001b[1;34m(self, x, y, batch_size, nb_epoch, verbose, callbacks, validation_split, validation_data, shuffle, class_weight, sample_weight)\u001b[0m\n\u001b[0;32m    992\u001b[0m                                                            \u001b[0mclass_weight\u001b[0m\u001b[1;33m=\u001b[0m\u001b[0mclass_weight\u001b[0m\u001b[1;33m,\u001b[0m\u001b[1;33m\u001b[0m\u001b[0m\n\u001b[0;32m    993\u001b[0m                                                            \u001b[0mcheck_batch_dim\u001b[0m\u001b[1;33m=\u001b[0m\u001b[0mFalse\u001b[0m\u001b[1;33m,\u001b[0m\u001b[1;33m\u001b[0m\u001b[0m\n\u001b[1;32m--> 994\u001b[1;33m                                                            batch_size=batch_size)\n\u001b[0m\u001b[0;32m    995\u001b[0m         \u001b[1;31m# prepare validation data\u001b[0m\u001b[1;33m\u001b[0m\u001b[1;33m\u001b[0m\u001b[0m\n\u001b[0;32m    996\u001b[0m         \u001b[1;32mif\u001b[0m \u001b[0mvalidation_data\u001b[0m\u001b[1;33m:\u001b[0m\u001b[1;33m\u001b[0m\u001b[0m\n",
      "\u001b[1;32m/home/rohanshah/anaconda2/lib/python2.7/site-packages/keras/engine/training.pyc\u001b[0m in \u001b[0;36m_standardize_user_data\u001b[1;34m(self, x, y, sample_weight, class_weight, check_batch_dim, batch_size)\u001b[0m\n\u001b[0;32m    939\u001b[0m                                 \u001b[1;34m'a number of samples that can be '\u001b[0m\u001b[1;33m\u001b[0m\u001b[0m\n\u001b[0;32m    940\u001b[0m                                 \u001b[1;34m'divided by the batch size. Found: '\u001b[0m \u001b[1;33m+\u001b[0m\u001b[1;33m\u001b[0m\u001b[0m\n\u001b[1;32m--> 941\u001b[1;33m                                 str(x[0].shape[0]) + ' samples')\n\u001b[0m\u001b[0;32m    942\u001b[0m         \u001b[1;32mreturn\u001b[0m \u001b[0mx\u001b[0m\u001b[1;33m,\u001b[0m \u001b[0my\u001b[0m\u001b[1;33m,\u001b[0m \u001b[0msample_weights\u001b[0m\u001b[1;33m\u001b[0m\u001b[0m\n\u001b[0;32m    943\u001b[0m \u001b[1;33m\u001b[0m\u001b[0m\n",
      "\u001b[1;31mException\u001b[0m: In a stateful network, you should only pass inputs with a number of samples that can be divided by the batch size. Found: 1150 samples"
     ]
    }
   ],
   "source": [
    "#fit\n",
    "model.fit(signals, y_train, shuffle = True,\n",
    "          batch_size=batch_size, nb_epoch=200, verbose = 1)"
   ]
  }
 ],
 "metadata": {
  "kernelspec": {
   "display_name": "Python 2",
   "language": "python",
   "name": "python2"
  },
  "language_info": {
   "codemirror_mode": {
    "name": "ipython",
    "version": 2
   },
   "file_extension": ".py",
   "mimetype": "text/x-python",
   "name": "python",
   "nbconvert_exporter": "python",
   "pygments_lexer": "ipython2",
   "version": "2.7.11"
  }
 },
 "nbformat": 4,
 "nbformat_minor": 0
}
