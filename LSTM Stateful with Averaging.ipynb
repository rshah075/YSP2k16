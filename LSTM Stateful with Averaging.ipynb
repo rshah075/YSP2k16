{
 "cells": [
  {
   "cell_type": "code",
   "execution_count": 1,
   "metadata": {
    "collapsed": false
   },
   "outputs": [
    {
     "name": "stderr",
     "output_type": "stream",
     "text": [
      "Using Theano backend.\n",
      "Using gpu device 0: GeForce GTX 480 (CNMeM is disabled, cuDNN not available)\n"
     ]
    }
   ],
   "source": [
    "#nikhil's code modified with dropout and data shift\n",
    "\n",
    "from keras.models import Sequential\n",
    "from keras.layers import LSTM, Dense, Dropout\n",
    "import numpy as np\n",
    "import matplotlib.pyplot as plt\n",
    "% matplotlib inline\n",
    "\n",
    "data_dim = 14\n",
    "timesteps = 2\n",
    "nb_classes = 2\n",
    "batch_size = 2\n",
    "rows = 115\n",
    "signal_num = [3,4,5,6,7,8,9,10,11,12,13,14,15,16]\n",
    "\n",
    "# set up model\n",
    "model = Sequential()\n",
    "model.add(LSTM(32, return_sequences=True, stateful=False,\n",
    "               input_shape=(50, 14)))\n",
    "#model.add(Dropout(0.5))\n",
    "model.add(LSTM(32, stateful=False))\n",
    "#model.add(Dropout(0.5))\n",
    "\n",
    "model.add(Dense(2, activation='softmax'))\n",
    "\n",
    "model.compile(loss='categorical_crossentropy',\n",
    "              optimizer='rmsprop',\n",
    "              metrics=['accuracy'])"
   ]
  },
  {
   "cell_type": "code",
   "execution_count": 2,
   "metadata": {
    "collapsed": false
   },
   "outputs": [
    {
     "name": "stdout",
     "output_type": "stream",
     "text": [
      "(115, 50, 14)\n",
      "(115, 50, 14)\n",
      "(230, 2)\n"
     ]
    }
   ],
   "source": [
    "#get focused data\n",
    "y_train = np.zeros((rows*2, nb_classes))\n",
    "classes = np.zeros(rows*2)\n",
    "focusedData = np.loadtxt(\"focus_baseline.csv\", delimiter=\",\", skiprows=1)\n",
    "t = 0\n",
    "x = 0\n",
    "focusedSignals = np.zeros((rows, 50, data_dim))\n",
    "signal = 0\n",
    "\n",
    "for n in signal_num:\n",
    "    t = 0\n",
    "    x=0\n",
    "    x_plus=x+timesteps\n",
    "    while t < rows:\n",
    "        for c in range(0,50):\n",
    "            points = np.mean(focusedData[x:x_plus, n])\n",
    "            focusedSignals[t,c,signal] = points\n",
    "            x+=2\n",
    "            x_plus=x+2\n",
    "        t+=1\n",
    "    signal+=1\n",
    "newFocused = focusedSignals - 4400\n",
    "\n",
    "#set one-hot\n",
    "for i in range(0,rows):\n",
    "    y_train[i][0]=1\n",
    "    y_train[i][1]=0\n",
    "    classes[i]=1\n",
    "\n",
    "#get scared data\n",
    "scaredData = np.loadtxt(\"scared.txt\", delimiter=\",\", skiprows=1)\n",
    "t = 0\n",
    "x = 0\n",
    "\n",
    "scaredSignals = np.zeros((rows, 50, data_dim))\n",
    "\n",
    "signal = 0\n",
    "\n",
    "for n in signal_num:\n",
    "    t = 0\n",
    "    x=0\n",
    "    x_plus=x+timesteps\n",
    "    while t < rows:\n",
    "        for c in range(0,50):\n",
    "            points = np.average(scaredData[x:x_plus, n])\n",
    "            scaredSignals[t,c,signal] = points\n",
    "            x+=2\n",
    "            x_plus=x+2\n",
    "        t+=1\n",
    "    signal+=1\n",
    "newScared = scaredSignals - 4400\n",
    "\n",
    "#set focues one-hot\n",
    "for i in range(rows, rows*2):\n",
    "    y_train[i][0]=0\n",
    "    y_train[i][1]=1\n",
    "    classes[i]=0\n",
    "\n",
    "print np.shape(newFocused)\n",
    "print np.shape(newScared)\n",
    "print np.shape(y_train)\n",
    "signals = np.vstack((newFocused,newScared))"
   ]
  },
  {
   "cell_type": "code",
   "execution_count": null,
   "metadata": {
    "collapsed": false
   },
   "outputs": [],
   "source": [
    "print np.shape(focusedSignals)\n",
    "print np.shape(scaredSignals)"
   ]
  },
  {
   "cell_type": "code",
   "execution_count": 3,
   "metadata": {
    "collapsed": false
   },
   "outputs": [
    {
     "name": "stdout",
     "output_type": "stream",
     "text": [
      "(190, 50, 14)\n",
      "(40, 50, 14)\n",
      "(190, 2)\n",
      "(40, 2)\n"
     ]
    }
   ],
   "source": [
    "trainFocus = signals[0:95]\n",
    "testFocus = signals[95:115]\n",
    "trainScared = signals[115:210]\n",
    "testScared = signals[210:230]\n",
    "totalTrain = np.vstack((trainFocus, trainScared))\n",
    "totalTest = np.vstack((testFocus, testScared))\n",
    "\n",
    "trainLabel1 = y_train[0:95]\n",
    "trainLabel2 = y_train[115:210]\n",
    "testLabel1 = y_train[95:115]\n",
    "testLabel2 = y_train[210:230]\n",
    "train_labels = np.vstack((trainLabel1, trainLabel2))\n",
    "test_labels = np.vstack((testLabel1, testLabel2))\n",
    "\n",
    "print np.shape(totalTrain)\n",
    "print np.shape(totalTest)\n",
    "print np.shape(train_labels)\n",
    "print np.shape(test_labels)"
   ]
  },
  {
   "cell_type": "code",
   "execution_count": null,
   "metadata": {
    "collapsed": false
   },
   "outputs": [
    {
     "name": "stdout",
     "output_type": "stream",
     "text": [
      "Train on 190 samples, validate on 40 samples\n",
      "Epoch 1/30\n",
      "190/190 [==============================] - 7s - loss: 0.6959 - acc: 0.6000 - val_loss: 0.6579 - val_acc: 0.6000\n",
      "Epoch 2/30\n",
      "190/190 [==============================] - 7s - loss: 0.5936 - acc: 0.7000 - val_loss: 0.6260 - val_acc: 0.7000\n",
      "Epoch 3/30\n",
      "190/190 [==============================] - 7s - loss: 0.4867 - acc: 0.7842 - val_loss: 0.5842 - val_acc: 0.6750\n",
      "Epoch 4/30\n",
      "190/190 [==============================] - 7s - loss: 0.4091 - acc: 0.8263 - val_loss: 0.5093 - val_acc: 0.7500\n",
      "Epoch 5/30\n",
      "190/190 [==============================] - 7s - loss: 0.3291 - acc: 0.8526 - val_loss: 0.5448 - val_acc: 0.7000\n",
      "Epoch 6/30\n",
      "190/190 [==============================] - 7s - loss: 0.3068 - acc: 0.8789 - val_loss: 0.5272 - val_acc: 0.7500\n",
      "Epoch 7/30\n",
      "190/190 [==============================] - 7s - loss: 0.2732 - acc: 0.9053 - val_loss: 0.6409 - val_acc: 0.7000\n",
      "Epoch 8/30\n",
      "190/190 [==============================] - 7s - loss: 0.2504 - acc: 0.8895 - val_loss: 0.6164 - val_acc: 0.7000\n",
      "Epoch 9/30\n",
      "190/190 [==============================] - 7s - loss: 0.1823 - acc: 0.9263 - val_loss: 0.9204 - val_acc: 0.6000\n",
      "Epoch 10/30\n",
      "190/190 [==============================] - 7s - loss: 0.1763 - acc: 0.9158 - val_loss: 0.8646 - val_acc: 0.6500\n",
      "Epoch 11/30\n",
      "190/190 [==============================] - 7s - loss: 0.1382 - acc: 0.9579 - val_loss: 0.7565 - val_acc: 0.7250\n",
      "Epoch 12/30\n",
      "190/190 [==============================] - 7s - loss: 0.1206 - acc: 0.9474 - val_loss: 0.8258 - val_acc: 0.7500\n",
      "Epoch 13/30\n",
      "190/190 [==============================] - 7s - loss: 0.0979 - acc: 0.9632 - val_loss: 0.9304 - val_acc: 0.6500\n",
      "Epoch 14/30\n",
      "190/190 [==============================] - 7s - loss: 0.1352 - acc: 0.9526 - val_loss: 1.2345 - val_acc: 0.6250\n",
      "Epoch 15/30\n",
      "190/190 [==============================] - 7s - loss: 0.0999 - acc: 0.9737 - val_loss: 1.1290 - val_acc: 0.6500\n",
      "Epoch 16/30\n",
      "190/190 [==============================] - 7s - loss: 0.0637 - acc: 0.9895 - val_loss: 1.1360 - val_acc: 0.6500\n",
      "Epoch 17/30\n",
      "190/190 [==============================] - 7s - loss: 0.0921 - acc: 0.9684 - val_loss: 1.7679 - val_acc: 0.5750\n",
      "Epoch 18/30\n",
      "190/190 [==============================] - 7s - loss: 0.0590 - acc: 0.9842 - val_loss: 1.3912 - val_acc: 0.6500\n",
      "Epoch 19/30\n",
      "190/190 [==============================] - 7s - loss: 0.0524 - acc: 0.9789 - val_loss: 1.2723 - val_acc: 0.6750\n",
      "Epoch 20/30\n",
      "190/190 [==============================] - 7s - loss: 0.0767 - acc: 0.9737 - val_loss: 1.3641 - val_acc: 0.6000\n",
      "Epoch 21/30\n",
      " 52/190 [=======>......................] - ETA: 5s - loss: 0.1048 - acc: 0.9615"
     ]
    }
   ],
   "source": [
    "error_and_acc = model.fit(totalTrain, train_labels, shuffle = True, \n",
    "                          batch_size=batch_size, nb_epoch=30, validation_data=(totalTest, test_labels),\n",
    "                          verbose = 1)"
   ]
  },
  {
   "cell_type": "code",
   "execution_count": null,
   "metadata": {
    "collapsed": false
   },
   "outputs": [],
   "source": [
    "print error_and_acc.history"
   ]
  },
  {
   "cell_type": "code",
   "execution_count": null,
   "metadata": {
    "collapsed": false
   },
   "outputs": [],
   "source": [
    "plt.plot(scaredData[1:10000,4])\n",
    "plt.plot(focusedData[1:10000,4])\n",
    "#plt.plot(scaredData[1:1000,4])\n",
    "#plt.plot(scaredData[1:1000,5])\n",
    "#plt.plot(scaredData[1:1000,15])\n",
    "plt.xlabel('Timestep')\n",
    "plt.ylabel('Wave Voltage (microvolts)')\n",
    "plt.title('Signal Voltages')"
   ]
  },
  {
   "cell_type": "code",
   "execution_count": null,
   "metadata": {
    "collapsed": false
   },
   "outputs": [],
   "source": [
    "plt.plot(focusedData[1:1000,3])\n",
    "plt.plot(focusedData[1:1000,4])\n",
    "plt.plot(focusedData[1:1000,5])\n",
    "plt.plot(focusedData[1:1000,15])\n",
    "plt.xlabel('Timestep')\n",
    "plt.ylabel('Wave Voltage (microvolts)')\n",
    "plt.title('Signal Voltages')"
   ]
  },
  {
   "cell_type": "code",
   "execution_count": null,
   "metadata": {
    "collapsed": false
   },
   "outputs": [],
   "source": [
    "print error_and_acc.history['loss']"
   ]
  },
  {
   "cell_type": "code",
   "execution_count": null,
   "metadata": {
    "collapsed": false
   },
   "outputs": [],
   "source": [
    "#sequences = np.zeros((50,4))\n",
    "#for x in range(0,4):\n",
    "#    sequences[:,x] = focusedSignals[2100,0:50,x]\n",
    "#print sequences\n",
    "labels = model.predict_classes(signals[0:4600,0:50,0:4], batch_size = 100)\n",
    "ones = np.count_nonzero(labels)\n",
    "zeros_num = 4600-ones\n",
    "print ones\n",
    "print zeros_num"
   ]
  },
  {
   "cell_type": "code",
   "execution_count": null,
   "metadata": {
    "collapsed": false
   },
   "outputs": [],
   "source": [
    "print sequences"
   ]
  }
 ],
 "metadata": {
  "kernelspec": {
   "display_name": "Python 2",
   "language": "python",
   "name": "python2"
  },
  "language_info": {
   "codemirror_mode": {
    "name": "ipython",
    "version": 2
   },
   "file_extension": ".py",
   "mimetype": "text/x-python",
   "name": "python",
   "nbconvert_exporter": "python",
   "pygments_lexer": "ipython2",
   "version": "2.7.11"
  }
 },
 "nbformat": 4,
 "nbformat_minor": 0
}
