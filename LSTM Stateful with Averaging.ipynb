{
 "cells": [
  {
   "cell_type": "code",
   "execution_count": 2,
   "metadata": {
    "collapsed": false
   },
   "outputs": [
    {
     "name": "stderr",
     "output_type": "stream",
     "text": [
      "Using Theano backend.\n",
      "Using gpu device 0: GeForce GTX 480 (CNMeM is disabled, cuDNN not available)\n"
     ]
    }
   ],
   "source": [
    "#nikhil's code modified with dropout and data shift\n",
    "\n",
    "from keras.models import Sequential\n",
    "from keras.layers import LSTM, Dense, Dropout\n",
    "import numpy as np\n",
    "import matplotlib.pyplot as plt\n",
    "% matplotlib inline\n",
    "\n",
    "data_dim = 14\n",
    "timesteps = 2\n",
    "nb_classes = 2\n",
    "batch_size = 2\n",
    "rows = 115\n",
    "columns=50\n",
    "timeskip = 2\n",
    "signal_num = [3,4,5,6,7,8,9,10,11,12,13,14,15,16]\n",
    "\n",
    "# set up model\n",
    "model = Sequential()\n",
    "model.add(LSTM(32, return_sequences=True, stateful=False,\n",
    "               input_shape=(50, 14)))\n",
    "#model.add(Dropout(0.5))\n",
    "model.add(LSTM(32, stateful=False))\n",
    "#model.add(Dropout(0.5))\n",
    "\n",
    "model.add(Dense(2, activation='softmax'))\n",
    "\n",
    "model.compile(loss='categorical_crossentropy',\n",
    "              optimizer='rmsprop',\n",
    "              metrics=['accuracy'])"
   ]
  },
  {
   "cell_type": "code",
   "execution_count": 10,
   "metadata": {
    "collapsed": false
   },
   "outputs": [
    {
     "name": "stdout",
     "output_type": "stream",
     "text": [
      "(805, 2)\n"
     ]
    }
   ],
   "source": [
    "#get focused data\n",
    "y_train = np.zeros((rows*7, nb_classes))\n",
    "classes = np.zeros(rows*7)\n",
    "focusedData = np.loadtxt(\"focus_base.txt\", delimiter=\",\", skiprows=1)\n",
    "t = 0\n",
    "x = 0\n",
    "focusedSignals = np.zeros((rows, columns, data_dim))\n",
    "signal = 0\n",
    "\n",
    "for n in signal_num:\n",
    "    t = 0\n",
    "    x=0\n",
    "    x_plus=x+timesteps\n",
    "    while t < rows:\n",
    "        for c in range(0,columns):\n",
    "            points = np.mean(focusedData[x:x_plus, n])\n",
    "            focusedSignals[t,c,signal] = points\n",
    "            x+=timeskip\n",
    "            x_plus=x+timeskip\n",
    "        t+=1\n",
    "    signal+=1\n",
    "newFocused = focusedSignals - 4400\n",
    "\n",
    "#set focus one-hot\n",
    "for i in range(0,rows):\n",
    "    y_train[i][0]=1\n",
    "    y_train[i][1]=0\n",
    "    \n",
    "########################################\n",
    "\n",
    "#get scared data\n",
    "scaredData = np.loadtxt(\"scared.txt\", delimiter=\",\", skiprows=1)\n",
    "t = 0\n",
    "x = 0\n",
    "\n",
    "scaredSignals = np.zeros((rows, columns, data_dim))\n",
    "\n",
    "signal = 0\n",
    "\n",
    "for n in signal_num:\n",
    "    t = 0\n",
    "    x=0\n",
    "    x_plus=x+timeskip\n",
    "    while t < rows:\n",
    "        for c in range(0,columns):\n",
    "            points = np.average(scaredData[x:x_plus, n])\n",
    "            scaredSignals[t,c,signal] = points\n",
    "            x+=timeskip\n",
    "            x_plus=x+timeskip\n",
    "        t+=1\n",
    "    signal+=1\n",
    "newScared = scaredSignals - 4400\n",
    "\n",
    "#set scared one-hot\n",
    "for i in range(rows, rows*2):\n",
    "    y_train[i][0]=0\n",
    "    y_train[i][1]=1\n",
    "\n",
    "##############################################\n",
    "\n",
    "#get action data\n",
    "actionData = np.loadtxt(\"action.txt\", delimiter=\",\", skiprows=1)\n",
    "t = 0\n",
    "x = 0\n",
    "actionSignals = np.zeros((rows, columns, data_dim))\n",
    "signal = 0\n",
    "\n",
    "for n in signal_num:\n",
    "    t = 0\n",
    "    x=0\n",
    "    x_plus=x+timeskip\n",
    "    while t < rows:\n",
    "        for c in range(0,columns):\n",
    "            points = np.mean(actionData[x:x_plus, n])\n",
    "            actionSignals[t,c,signal] = points\n",
    "            x+=timeskip\n",
    "            x_plus=x+timeskip\n",
    "        t+=1\n",
    "    signal+=1\n",
    "newAction = actionSignals - 4400\n",
    "\n",
    "#set action one-hot\n",
    "for i in range(0,rows):\n",
    "    y_train[i][0]=0\n",
    "    y_train[i][1]=1\n",
    "    \n",
    "###############################################\n",
    "\n",
    "#get juggling data\n",
    "jugglingData = np.loadtxt(\"juggling.txt\", delimiter=\",\", skiprows=1)\n",
    "t = 0\n",
    "x = 0\n",
    "jugglingSignals = np.zeros((rows, columns, data_dim))\n",
    "signal = 0\n",
    "\n",
    "for n in signal_num:\n",
    "    t = 0\n",
    "    x=0\n",
    "    x_plus=x+timeskip\n",
    "    while t < rows:\n",
    "        for c in range(0,columns):\n",
    "            points = np.mean(jugglingData[x:x_plus, n])\n",
    "            focusedSignals[t,c,signal] = points\n",
    "            x+=timeskip\n",
    "            x_plus=x+timeskip\n",
    "        t+=1\n",
    "    signal+=1\n",
    "newJuggling = jugglingSignals - 4400\n",
    "\n",
    "#set juggling one-hot\n",
    "for i in range(0,rows):\n",
    "    y_train[i][0]=0\n",
    "    y_train[i][1]=1\n",
    "    \n",
    "###################################################\n",
    "    \n",
    "#get fireplace data\n",
    "fireData = np.loadtxt(\"fireplace.txt\", delimiter=\",\", skiprows=1)\n",
    "t = 0\n",
    "x = 0\n",
    "fireSignals = np.zeros((rows, columns, data_dim))\n",
    "signal = 0\n",
    "\n",
    "for n in signal_num:\n",
    "    t = 0\n",
    "    x=0\n",
    "    x_plus=x+timeskip\n",
    "    while t < rows:\n",
    "        for c in range(0,columns):\n",
    "            points = np.mean(fireData[x:x_plus, n])\n",
    "            fireSignals[t,c,signal] = points\n",
    "            x+=timeskip\n",
    "            x_plus=x+timeskip\n",
    "        t+=1\n",
    "    signal+=1\n",
    "newFire = fireSignals - 4400\n",
    "\n",
    "#set fireplace one-hot\n",
    "for i in range(0,rows):\n",
    "    y_train[i][0]=0\n",
    "    y_train[i][1]=1\n",
    "\n",
    "###################################################\n",
    "\n",
    "#get rubix data\n",
    "rubixData = np.loadtxt(\"rubix.txt\", delimiter=\",\", skiprows=1)\n",
    "t = 0\n",
    "x = 0\n",
    "rubixSignals = np.zeros((rows, columns, data_dim))\n",
    "signal = 0\n",
    "\n",
    "for n in signal_num:\n",
    "    t = 0\n",
    "    x=0\n",
    "    x_plus=x+timeskip\n",
    "    while t < rows:\n",
    "        for c in range(0,columns):\n",
    "            points = np.mean(rubixData[x:x_plus, n])\n",
    "            rubixSignals[t,c,signal] = points\n",
    "            x+=timeskip\n",
    "            x_plus=x+timeskip\n",
    "        t+=1\n",
    "    signal+=1\n",
    "newRubix = rubixSignals - 4400\n",
    "\n",
    "#set juggling one-hot\n",
    "for i in range(0,rows):\n",
    "    y_train[i][0]=0\n",
    "    y_train[i][1]=1\n",
    "\n",
    "#################################################\n",
    "\n",
    "#get juggling data\n",
    "baseData = np.loadtxt(\"base.txt\", delimiter=\",\", skiprows=1)\n",
    "t = 0\n",
    "x = 0\n",
    "baseSignals = np.zeros((rows, columns, data_dim))\n",
    "signal = 0\n",
    "\n",
    "for n in signal_num:\n",
    "    t = 0\n",
    "    x=0\n",
    "    x_plus=x+timeskip\n",
    "    while t < rows:\n",
    "        for c in range(0,columns):\n",
    "            points = np.mean(baseData[x:x_plus, n])\n",
    "            baseSignals[t,c,signal] = points\n",
    "            x+=timeskip\n",
    "            x_plus=x+timeskip\n",
    "        t+=1\n",
    "    signal+=1\n",
    "newBase = baseSignals - 4400\n",
    "\n",
    "#set juggling one-hot\n",
    "for i in range(0,rows):\n",
    "    y_train[i][0]=0\n",
    "    y_train[i][1]=1\n",
    "\n",
    "print np.shape(y_train)"
   ]
  },
  {
   "cell_type": "code",
   "execution_count": 11,
   "metadata": {
    "collapsed": false
   },
   "outputs": [
    {
     "name": "stdout",
     "output_type": "stream",
     "text": [
      "(805, 50, 14)\n"
     ]
    }
   ],
   "source": [
    "signals = np.vstack((newFocused,newScared, newAction, newJuggling, newFire, newRubix, newBase))\n",
    "print np.shape(signals)"
   ]
  },
  {
   "cell_type": "code",
   "execution_count": 12,
   "metadata": {
    "collapsed": false
   },
   "outputs": [
    {
     "name": "stdout",
     "output_type": "stream",
     "text": [
      "(665, 50, 14)\n",
      "(140, 50, 14)\n",
      "(665, 2)\n",
      "(140, 2)\n"
     ]
    }
   ],
   "source": [
    "trainFocus = signals[0:95]\n",
    "testFocus = signals[95:115]\n",
    "trainScared = signals[115:210]\n",
    "testScared = signals[210:230]\n",
    "trainAction = signals[230:325]\n",
    "testAction = signals[325:345]\n",
    "trainJuggling = signals[345:440]\n",
    "testJuggling = signals[440:460]\n",
    "trainFire = signals[460:555]\n",
    "testFire = signals[555:575]\n",
    "trainRubix = signals[575:670]\n",
    "testRubix = signals[670:690]\n",
    "trainBase = signals[690:785]\n",
    "testBase = signals[785:805]\n",
    "\n",
    "totalTrain = np.vstack((trainFocus, trainScared, trainAction, trainJuggling, trainFire, trainRubix, trainBase))\n",
    "totalTest = np.vstack((testFocus, testScared, testAction, testJuggling, testFire, testRubix, testBase))\n",
    "\n",
    "trainLabel1 = y_train[0:95]\n",
    "trainLabel2 = y_train[115:210]\n",
    "trainLabel3 = y_train[230:325]\n",
    "trainLabel4 = y_train[345:440]\n",
    "trainLabel5 = y_train[460:555]\n",
    "trainLabel6 = y_train[575:670]\n",
    "trainLabel7 = y_train[690:785]\n",
    "\n",
    "testLabel1 = y_train[95:115]\n",
    "testLabel2 = y_train[210:230]\n",
    "testLabel3 = y_train[325:345]\n",
    "testLabel4 = y_train[440:460]\n",
    "testLabel5 = y_train[555:575]\n",
    "testLabel6 = y_train[670:690]\n",
    "testLabel7 = y_train[785:805]\n",
    "\n",
    "train_labels = np.vstack((trainLabel1, trainLabel2, trainLabel3, trainLabel4, trainLabel5, trainLabel6, trainLabel7))\n",
    "test_labels = np.vstack((testLabel1, testLabel2,testLabel3, testLabel4,testLabel5, testLabel6,testLabel7))\n",
    "\n",
    "print np.shape(totalTrain)\n",
    "print np.shape(totalTest)\n",
    "print np.shape(train_labels)\n",
    "print np.shape(test_labels)"
   ]
  },
  {
   "cell_type": "code",
   "execution_count": null,
   "metadata": {
    "collapsed": false
   },
   "outputs": [
    {
     "name": "stdout",
     "output_type": "stream",
     "text": [
      "Train on 665 samples, validate on 140 samples\n",
      "Epoch 1/100\n",
      "665/665 [==============================] - 27s - loss: 0.0180 - acc: 0.4030 - val_loss: 0.0101 - val_acc: 0.4214\n",
      "Epoch 2/100\n",
      "665/665 [==============================] - 27s - loss: 7.9695e-07 - acc: 0.4301 - val_loss: 0.0109 - val_acc: 0.4214\n",
      "Epoch 3/100\n",
      "665/665 [==============================] - 27s - loss: 3.4149e-08 - acc: 0.4301 - val_loss: 0.0112 - val_acc: 0.4214\n",
      "Epoch 4/100\n",
      "112/665 [====>.........................] - ETA: 21s - loss: 3.6189e-08 - acc: 0.4643"
     ]
    }
   ],
   "source": [
    "error_and_acc = model.fit(totalTrain, train_labels, shuffle = True, \n",
    "                          batch_size=batch_size, nb_epoch=100, validation_data=(totalTest, test_labels),\n",
    "                          verbose = 1)"
   ]
  },
  {
   "cell_type": "code",
   "execution_count": null,
   "metadata": {
    "collapsed": false
   },
   "outputs": [],
   "source": [
    "plt.plot(error_and_acc.history['loss'])\n",
    "plt.plot(error_and_acc.history['acc'], 'x')"
   ]
  },
  {
   "cell_type": "code",
   "execution_count": null,
   "metadata": {
    "collapsed": false
   },
   "outputs": [],
   "source": [
    "plt.plot(scaredData[1:10000,4])\n",
    "plt.plot(focusedData[1:10000,4])\n",
    "#plt.plot(scaredData[1:1000,4])\n",
    "#plt.plot(scaredData[1:1000,5])\n",
    "#plt.plot(scaredData[1:1000,15])\n",
    "plt.xlabel('Timestep')\n",
    "plt.ylabel('Wave Voltage (microvolts)')\n",
    "plt.title('Signal Voltages')"
   ]
  },
  {
   "cell_type": "code",
   "execution_count": null,
   "metadata": {
    "collapsed": false
   },
   "outputs": [],
   "source": [
    "plt.plot(focusedData[1:1000,3])\n",
    "plt.plot(focusedData[1:1000,4])\n",
    "plt.plot(focusedData[1:1000,5])\n",
    "plt.plot(focusedData[1:1000,15])\n",
    "plt.xlabel('Timestep')\n",
    "plt.ylabel('Wave Voltage (microvolts)')\n",
    "plt.title('Signal Voltages')"
   ]
  },
  {
   "cell_type": "code",
   "execution_count": null,
   "metadata": {
    "collapsed": false
   },
   "outputs": [],
   "source": [
    "print error_and_acc.history['loss']"
   ]
  },
  {
   "cell_type": "code",
   "execution_count": null,
   "metadata": {
    "collapsed": false
   },
   "outputs": [],
   "source": [
    "#sequences = np.zeros((50,4))\n",
    "#for x in range(0,4):\n",
    "#    sequences[:,x] = focusedSignals[2100,0:50,x]\n",
    "#print sequences\n",
    "labels = model.predict_classes(signals[0:4600,0:50,0:4], batch_size = 100)\n",
    "ones = np.count_nonzero(labels)\n",
    "zeros_num = 4600-ones\n",
    "print ones\n",
    "print zeros_num"
   ]
  },
  {
   "cell_type": "code",
   "execution_count": null,
   "metadata": {
    "collapsed": false
   },
   "outputs": [],
   "source": [
    "print sequences"
   ]
  }
 ],
 "metadata": {
  "kernelspec": {
   "display_name": "Python 2",
   "language": "python",
   "name": "python2"
  },
  "language_info": {
   "codemirror_mode": {
    "name": "ipython",
    "version": 2
   },
   "file_extension": ".py",
   "mimetype": "text/x-python",
   "name": "python",
   "nbconvert_exporter": "python",
   "pygments_lexer": "ipython2",
   "version": "2.7.11"
  }
 },
 "nbformat": 4,
 "nbformat_minor": 0
}
