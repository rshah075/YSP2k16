{
 "cells": [
  {
   "cell_type": "code",
   "execution_count": 6,
   "metadata": {
    "collapsed": false,
    "scrolled": false
   },
   "outputs": [
    {
     "name": "stdout",
     "output_type": "stream",
     "text": [
      "10000\n",
      "50\n"
     ]
    },
    {
     "data": {
      "text/plain": [
       "[<matplotlib.lines.Line2D at 0x7fd8893ee7d0>]"
      ]
     },
     "execution_count": 6,
     "metadata": {},
     "output_type": "execute_result"
    },
    {
     "data": {
      "image/png": "[encoded data removed]",
      "text/plain": [
       "<matplotlib.figure.Figure at 0x7fd888e63b10>"
      ]
     },
     "metadata": {},
     "output_type": "display_data"
    }
   ],
   "source": [
    "import matplotlib.pyplot as plt\n",
    "%matplotlib inline\n",
    "import os\n",
    "#choose \"cpu\" or \"gpu\"\n",
    "os.environ['THEANO FLAGS']= 'device=gpu'\n",
    "\n",
    "#following line is useful for fast compilation while using Gpu\n",
    "os.environ['THEANO FLAGS']= 'optimizer=fast_compile'\n",
    "\n",
    "from keras.models import Sequential\n",
    "from keras.layers import LSTM, Dense\n",
    "import numpy as np\n",
    "\n",
    "data_dim = 1\n",
    "timesteps = 50\n",
    "nb_classes = 2\n",
    "\n",
    "\n",
    "model = Sequential()\n",
    "model.add(LSTM(4, return_sequences=False,\n",
    "               input_shape=(timesteps, data_dim)))\n",
    "model.add(Dense(2, activation='softmax'))\n",
    "\n",
    "model.compile(loss='binary_crossentropy',\n",
    "              optimizer='rmsprop',\n",
    "              metrics=['accuracy'])\n",
    "\n",
    "# generate dummy training data\n",
    "x_train = np.zeros((10000,timesteps, data_dim))\n",
    "y_train = np.zeros((10000, nb_classes))\n",
    "count = 0\n",
    "classes = np.zeros(1000)\n",
    "times = np.zeros(50)\n",
    "for i in range(0, 50):\n",
    "    times[i]=i\n",
    "\n",
    "while count<5000:\n",
    "    newCount = 0\n",
    "    while newCount<50:\n",
    "        x_train[count][newCount] = newCount*np.sin(newCount+np.random.uniform(0,.1))+np.random.uniform(0,.1)\n",
    "        newCount+=1\n",
    "    y_train[count][0]=1\n",
    "    y_train[count][1]=0\n",
    "    count+=1\n",
    "    \n",
    "while count<10000:\n",
    "    newCount = 0\n",
    "    while newCount<50:\n",
    "        x_train[count][newCount] = (1./(newCount+1))*np.sin(newCount+np.random.uniform(0,.1))+np.random.uniform(0,.1)\n",
    "        newCount+=1\n",
    "    y_train[count][0]=0\n",
    "    y_train[count][1]=1\n",
    "    count+=1\n",
    "\n",
    "\n",
    "# generate dummy validation data\n",
    "\n",
    "x_val = np.zeros((1000,timesteps, data_dim))\n",
    "y_val = np.zeros((1000, nb_classes))\n",
    "count = 0\n",
    "\n",
    "while count<500:\n",
    "    newCount = 0\n",
    "    while newCount<50:\n",
    "        x_val[count][newCount] = newCount*np.sin(newCount+np.random.uniform(0,.1))+np.random.uniform(0,.1)\n",
    "        newCount+=1\n",
    "    classes[count]=0\n",
    "    y_val[count][0]=1\n",
    "    y_val[count][1]=0\n",
    "    count+=1\n",
    "\n",
    "while count<1000:\n",
    "    newCount = 0\n",
    "    while newCount<50:\n",
    "        x_val[count][newCount] = (1./(newCount+1))*np.sin(newCount+np.random.uniform(0,.1))+np.random.uniform(0,.1)\n",
    "        newCount+=1\n",
    "    classes[count]=1\n",
    "    y_val[count][0]=0\n",
    "    y_val[count][1]=1\n",
    "    count+=1\n",
    "\n",
    "#model.fit(x_train, y_train,batch_size=64, nb_epoch=2,validation_data=(x_val, y_val), shuffle= True)\n",
    "#classesTrain = model.predict_classes(x_val, batch_size=32)\n",
    "#correct= 0\n",
    "print len(x_train)\n",
    "for i in range(0,1000):\n",
    "    if(classes[i]==classesTrain[i]):\n",
    "        correct= correct+1\n",
    "print len(x_train[0,:])\n",
    "\n",
    "plt.plot(times, x_train[0,:], \"r\")\n",
    "plt.plot(times, x_train[501,:], \"b\")"
   ]
  },
  {
   "cell_type": "code",
   "execution_count": 1,
   "metadata": {
    "collapsed": false
   },
   "outputs": [],
   "source": [
    "#x = np.linspace(1,100, 1000)\n",
    "#y= (1/x)*np.sin(x)\n",
    "#y2= (x)*np.sin(x)\n",
    "#plt.plot(x, y)\n",
    "#plt.plot(x, y2)"
   ]
  }
 ],
 "metadata": {
  "kernelspec": {
   "display_name": "Python 2",
   "language": "python",
   "name": "python2"
  },
  "language_info": {
   "codemirror_mode": {
    "name": "ipython",
    "version": 2
   },
   "file_extension": ".py",
   "mimetype": "text/x-python",
   "name": "python",
   "nbconvert_exporter": "python",
   "pygments_lexer": "ipython2",
   "version": "2.7.11"
  }
 },
 "nbformat": 4,
 "nbformat_minor": 0
}
