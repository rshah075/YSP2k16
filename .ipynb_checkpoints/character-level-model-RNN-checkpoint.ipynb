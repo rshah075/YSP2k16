{
 "cells": [
  {
   "cell_type": "code",
   "execution_count": 13,
   "metadata": {
    "collapsed": false
   },
   "outputs": [
    {
     "name": "stdout",
     "output_type": "stream",
     "text": [
      "Working on 1115394 characters (65 unique)\n"
     ]
    }
   ],
   "source": [
    "# Implementation of a simple character RNN (using LSTM units), based on:\n",
    "# https://github.com/karpathy/char-rnn\n",
    "import numpy as np\n",
    "\n",
    "from keras.models import Sequential\n",
    "from keras.layers.core import Dense, Activation, Dropout\n",
    "from keras.layers.recurrent import LSTM\n",
    "from keras.layers.wrappers import TimeDistributed\n",
    "\n",
    "text = open('data/input.txt', 'r').read()\n",
    "char_to_idx = {ch: i for (i, ch) in enumerate(sorted(list(set(text))))}\n",
    "idx_to_char = {i: ch for (ch, i) in char_to_idx.items()}\n",
    "vocab_size = len(char_to_idx)\n",
    "\n",
    "print 'Working on %d characters (%d unique)' % (len(text), vocab_size)\n",
    "\n",
    "SEQ_LEN = 64\n",
    "BATCH_SIZE = 16\n",
    "BATCH_CHARS = len(text) / BATCH_SIZE\n",
    "LSTM_SIZE = 128\n",
    "LAYERS = 3"
   ]
  },
  {
   "cell_type": "code",
   "execution_count": 14,
   "metadata": {
    "collapsed": true
   },
   "outputs": [],
   "source": [
    "# For training, each subsequent example for a given batch index should be a\n",
    "# consecutive portion of the text.  To achieve this, each batch index operates\n",
    "# over a disjoint section of the input text.\n",
    "def read_batches(text):\n",
    "    T = np.asarray([char_to_idx[c] for c in text], dtype=np.int32)\n",
    "    X = np.zeros((BATCH_SIZE, SEQ_LEN, vocab_size))\n",
    "    Y = np.zeros((BATCH_SIZE, SEQ_LEN, vocab_size))\n",
    "\n",
    "    for i in range(0, BATCH_CHARS - SEQ_LEN - 1, SEQ_LEN):\n",
    "        X[:] = 0\n",
    "        Y[:] = 0\n",
    "        for batch_idx in range(BATCH_SIZE):\n",
    "            start = batch_idx * BATCH_CHARS + i\n",
    "            for j in range(SEQ_LEN):\n",
    "                X[batch_idx, j, T[start+j]] = 1\n",
    "                Y[batch_idx, j, T[start+j+1]] = 1\n",
    "\n",
    "        yield X, Y"
   ]
  },
  {
   "cell_type": "code",
   "execution_count": 15,
   "metadata": {
    "collapsed": true
   },
   "outputs": [],
   "source": [
    "def build_model(infer):\n",
    "    if infer:\n",
    "        batch_size = seq_len = 1\n",
    "    else:\n",
    "        batch_size = BATCH_SIZE\n",
    "        seq_len = SEQ_LEN\n",
    "    model = Sequential()\n",
    "    model.add(LSTM(LSTM_SIZE,\n",
    "                   return_sequences=True,\n",
    "                   batch_input_shape=(batch_size, seq_len, vocab_size),\n",
    "                   stateful=True))\n",
    "\n",
    "    model.add(Dropout(0.2))\n",
    "    for l in range(LAYERS - 1):\n",
    "        model.add(LSTM(LSTM_SIZE, return_sequences=True, stateful=True))\n",
    "        model.add(Dropout(0.2))\n",
    "\n",
    "    model.add(TimeDistributed(Dense(vocab_size)))\n",
    "    model.add(Activation('softmax'))\n",
    "    model.compile(loss='categorical_crossentropy', optimizer='adagrad')\n",
    "    return model"
   ]
  },
  {
   "cell_type": "code",
   "execution_count": 16,
   "metadata": {
    "collapsed": true
   },
   "outputs": [],
   "source": [
    "def sample(epoch, sample_chars=256, primer_text='And the '):\n",
    "    test_model.reset_states()\n",
    "    test_model.load_weights('/tmp/keras_char_rnn.%d.h5' % epoch)\n",
    "    sampled = [char_to_idx[c] for c in primer_text]\n",
    "\n",
    "    for c in primer_text:\n",
    "        batch = np.zeros((1, 1, vocab_size))\n",
    "        batch[0, 0, char_to_idx[c]] = 1\n",
    "        test_model.predict_on_batch(batch)\n",
    "\n",
    "    for i in range(sample_chars):\n",
    "        batch = np.zeros((1, 1, vocab_size))\n",
    "        batch[0, 0, sampled[-1]] = 1\n",
    "        softmax = test_model.predict_on_batch(batch)[0].ravel()\n",
    "        sample = np.random.choice(range(vocab_size), p=softmax)\n",
    "        sampled.append(sample)\n",
    "\n",
    "    print ''.join([idx_to_char[c] for c in sampled])\n"
   ]
  },
  {
   "cell_type": "code",
   "execution_count": null,
   "metadata": {
    "collapsed": false
   },
   "outputs": [],
   "source": [
    "print 'Building model.'\n",
    "training_model = build_model(infer=False)\n",
    "test_model = build_model(infer=True)\n",
    "print '... done'\n",
    "\n",
    "for epoch in range(1):\n",
    "    for i, (x, y) in enumerate(read_batches(text)):\n",
    "        loss = training_model.train_on_batch(x, y)\n",
    "        print epoch, i, loss\n",
    "\n",
    "        if i % 1000 == 0:\n",
    "            training_model.save_weights('/tmp/keras_char_rnn.%d.h5' % epoch,\n",
    "                                        overwrite=True)\n",
    "            sample(epoch)"
   ]
  }
 ],
 "metadata": {
  "kernelspec": {
   "display_name": "Python 2",
   "language": "python",
   "name": "python2"
  },
  "language_info": {
   "codemirror_mode": {
    "name": "ipython",
    "version": 2
   },
   "file_extension": ".py",
   "mimetype": "text/x-python",
   "name": "python",
   "nbconvert_exporter": "python",
   "pygments_lexer": "ipython2",
   "version": "2.7.11"
  }
 },
 "nbformat": 4,
 "nbformat_minor": 0
}
