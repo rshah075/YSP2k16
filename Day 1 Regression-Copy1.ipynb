{
 "cells": [
  {
   "cell_type": "code",
   "execution_count": 1,
   "metadata": {
    "collapsed": false
   },
   "outputs": [
    {
     "name": "stderr",
     "output_type": "stream",
     "text": [
      "Using Theano backend.\n",
      "Using gpu device 0: GeForce GTX 480 (CNMeM is disabled, cuDNN not available)\n"
     ]
    }
   ],
   "source": [
    "import numpy as np\n",
    "import matplotlib.pyplot as plt\n",
    "import keras as model\n",
    "from keras.models import Sequential\n",
    "from keras.layers import Dense, Dropout, Activation, Flatten\n",
    "from keras.layers import Convolution2D, MaxPooling2D\n",
    "from keras.utils import np_utils\n",
    "% matplotlib inline"
   ]
  },
  {
   "cell_type": "markdown",
   "metadata": {},
   "source": [
    "# read in housing data file"
   ]
  },
  {
   "cell_type": "markdown",
   "metadata": {},
   "source": [
    "*Median value of owner-occupied homes in $1000's VS. Avg number of rooms per dwelling*"
   ]
  },
  {
   "cell_type": "code",
   "execution_count": 5,
   "metadata": {
    "collapsed": false
   },
   "outputs": [
    {
     "name": "stdout",
     "output_type": "stream",
     "text": [
      "Train on 450 samples, validate on 56 samples\n",
      "Epoch 1/30\n",
      "450/450 [==============================] - 0s - loss: 621.2998 - acc: 0.0000e+00 - val_loss: 357.8825 - val_acc: 0.0000e+00\n",
      "Epoch 2/30\n",
      "450/450 [==============================] - 0s - loss: 621.2998 - acc: 0.0000e+00 - val_loss: 357.8825 - val_acc: 0.0000e+00\n",
      "Epoch 3/30\n",
      "450/450 [==============================] - 0s - loss: 621.2998 - acc: 0.0000e+00 - val_loss: 357.8825 - val_acc: 0.0000e+00\n",
      "Epoch 4/30\n",
      "450/450 [==============================] - 0s - loss: 621.2998 - acc: 0.0000e+00 - val_loss: 357.8825 - val_acc: 0.0000e+00\n",
      "Epoch 5/30\n",
      "450/450 [==============================] - 0s - loss: 621.2998 - acc: 0.0000e+00 - val_loss: 357.8825 - val_acc: 0.0000e+00\n",
      "Epoch 6/30\n",
      "450/450 [==============================] - 0s - loss: 621.2998 - acc: 0.0000e+00 - val_loss: 357.8825 - val_acc: 0.0000e+00\n",
      "Epoch 7/30\n",
      "450/450 [==============================] - 0s - loss: 621.2998 - acc: 0.0000e+00 - val_loss: 357.8825 - val_acc: 0.0000e+00\n",
      "Epoch 8/30\n",
      "450/450 [==============================] - 0s - loss: 621.2998 - acc: 0.0000e+00 - val_loss: 357.8825 - val_acc: 0.0000e+00\n",
      "Epoch 9/30\n",
      "450/450 [==============================] - 0s - loss: 621.2998 - acc: 0.0000e+00 - val_loss: 357.8825 - val_acc: 0.0000e+00\n",
      "Epoch 10/30\n",
      "450/450 [==============================] - 0s - loss: 621.2998 - acc: 0.0000e+00 - val_loss: 357.8825 - val_acc: 0.0000e+00\n",
      "Epoch 11/30\n",
      "450/450 [==============================] - 0s - loss: 621.2998 - acc: 0.0000e+00 - val_loss: 357.8825 - val_acc: 0.0000e+00\n",
      "Epoch 12/30\n",
      "450/450 [==============================] - 0s - loss: 621.2998 - acc: 0.0000e+00 - val_loss: 357.8825 - val_acc: 0.0000e+00\n",
      "Epoch 13/30\n",
      "450/450 [==============================] - 0s - loss: 621.2998 - acc: 0.0000e+00 - val_loss: 357.8825 - val_acc: 0.0000e+00\n",
      "Epoch 14/30\n",
      "450/450 [==============================] - 0s - loss: 621.2998 - acc: 0.0000e+00 - val_loss: 357.8825 - val_acc: 0.0000e+00\n",
      "Epoch 15/30\n",
      "450/450 [==============================] - 0s - loss: 621.2998 - acc: 0.0000e+00 - val_loss: 357.8825 - val_acc: 0.0000e+00\n",
      "Epoch 16/30\n",
      "450/450 [==============================] - 0s - loss: 621.2998 - acc: 0.0000e+00 - val_loss: 357.8825 - val_acc: 0.0000e+00\n",
      "Epoch 17/30\n",
      "450/450 [==============================] - 0s - loss: 621.2998 - acc: 0.0000e+00 - val_loss: 357.8825 - val_acc: 0.0000e+00\n",
      "Epoch 18/30\n",
      "450/450 [==============================] - 0s - loss: 621.2998 - acc: 0.0000e+00 - val_loss: 357.8825 - val_acc: 0.0000e+00\n",
      "Epoch 19/30\n",
      "450/450 [==============================] - 0s - loss: 621.2998 - acc: 0.0000e+00 - val_loss: 357.8825 - val_acc: 0.0000e+00\n",
      "Epoch 20/30\n",
      "450/450 [==============================] - 0s - loss: 621.2998 - acc: 0.0000e+00 - val_loss: 357.8825 - val_acc: 0.0000e+00\n",
      "Epoch 21/30\n",
      "450/450 [==============================] - 0s - loss: 621.2998 - acc: 0.0000e+00 - val_loss: 357.8825 - val_acc: 0.0000e+00\n",
      "Epoch 22/30\n",
      "450/450 [==============================] - 0s - loss: 621.2998 - acc: 0.0000e+00 - val_loss: 357.8825 - val_acc: 0.0000e+00\n",
      "Epoch 23/30\n",
      "450/450 [==============================] - 0s - loss: 621.2998 - acc: 0.0000e+00 - val_loss: 357.8825 - val_acc: 0.0000e+00\n",
      "Epoch 24/30\n",
      "450/450 [==============================] - 0s - loss: 621.2998 - acc: 0.0000e+00 - val_loss: 357.8825 - val_acc: 0.0000e+00\n",
      "Epoch 25/30\n",
      "450/450 [==============================] - 0s - loss: 621.2998 - acc: 0.0000e+00 - val_loss: 357.8825 - val_acc: 0.0000e+00\n",
      "Epoch 26/30\n",
      "450/450 [==============================] - 0s - loss: 621.2998 - acc: 0.0000e+00 - val_loss: 357.8825 - val_acc: 0.0000e+00\n",
      "Epoch 27/30\n",
      "450/450 [==============================] - 0s - loss: 621.2998 - acc: 0.0000e+00 - val_loss: 357.8825 - val_acc: 0.0000e+00\n",
      "Epoch 28/30\n",
      "450/450 [==============================] - 0s - loss: 621.2998 - acc: 0.0000e+00 - val_loss: 357.8825 - val_acc: 0.0000e+00\n",
      "Epoch 29/30\n",
      "450/450 [==============================] - 0s - loss: 621.2998 - acc: 0.0000e+00 - val_loss: 357.8825 - val_acc: 0.0000e+00\n",
      "Epoch 30/30\n",
      "450/450 [==============================] - 0s - loss: 621.2998 - acc: 0.0000e+00 - val_loss: 357.8825 - val_acc: 0.0000e+00\n"
     ]
    },
    {
     "data": {
      "text/plain": [
       "<keras.callbacks.History at 0x7fd5c0eff310>"
      ]
     },
     "execution_count": 5,
     "metadata": {},
     "output_type": "execute_result"
    }
   ],
   "source": [
    "data = np.loadtxt(\"housing.data\", usecols=(5,13))\n",
    "train = data[0:450,:]\n",
    "testing = data[450:506,:]\n",
    "model = Sequential()\n",
    "model.add(Dense(2, input_shape = (1,)))\n",
    "model.add(Dense(1))\n",
    "model.add(Activation('relu'))\n",
    "model.compile(loss='mean_squared_error',\n",
    "              optimizer='sgd',\n",
    "              metrics=['accuracy'])\n",
    "model.fit(train[:,0], train[:,1], batch_size=40, nb_epoch=30,\n",
    "verbose=1, validation_data=(testing[:,0], testing[:,1]))"
   ]
  }
 ],
 "metadata": {
  "kernelspec": {
   "display_name": "Python 2",
   "language": "python",
   "name": "python2"
  },
  "language_info": {
   "codemirror_mode": {
    "name": "ipython",
    "version": 2
   },
   "file_extension": ".py",
   "mimetype": "text/x-python",
   "name": "python",
   "nbconvert_exporter": "python",
   "pygments_lexer": "ipython2",
   "version": "2.7.11"
  }
 },
 "nbformat": 4,
 "nbformat_minor": 0
}
