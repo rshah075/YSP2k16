{
 "cells": [
  {
   "cell_type": "code",
   "execution_count": 5,
   "metadata": {
    "collapsed": false
   },
   "outputs": [],
   "source": [
    "import numpy as np\n",
    "import matplotlib.pyplot as plt\n",
    "import keras as keras\n",
    "from keras.models import Sequential\n",
    "from keras.layers import Dense, Dropout, Activation, Flatten\n",
    "from keras.layers import Convolution2D, MaxPooling2D\n",
    "from keras.utils import np_utils\n",
    "% matplotlib inline"
   ]
  },
  {
   "cell_type": "markdown",
   "metadata": {},
   "source": [
    "# read in housing data file"
   ]
  },
  {
   "cell_type": "markdown",
   "metadata": {},
   "source": [
    "*Median value of owner-occupied homes in $1000's VS. Avg number of rooms per dwelling*"
   ]
  },
  {
   "cell_type": "code",
   "execution_count": 27,
   "metadata": {
    "collapsed": false
   },
   "outputs": [
    {
     "name": "stdout",
     "output_type": "stream",
     "text": [
      "Train on 450 samples, validate on 56 samples\n",
      "Epoch 1/30\n",
      "450/450 [==============================] - 0s - loss: 172.9308 - acc: 0.0067 - val_loss: 28.3030 - val_acc: 0.0179\n",
      "Epoch 2/30\n",
      "450/450 [==============================] - 0s - loss: 64.2580 - acc: 0.0067 - val_loss: 80.8828 - val_acc: 0.0000e+00\n",
      "Epoch 3/30\n",
      "450/450 [==============================] - 0s - loss: 63.9320 - acc: 0.0178 - val_loss: 23.6110 - val_acc: 0.0000e+00\n",
      "Epoch 4/30\n",
      "450/450 [==============================] - 0s - loss: 62.6706 - acc: 0.0111 - val_loss: 25.3909 - val_acc: 0.0179\n",
      "Epoch 5/30\n",
      "450/450 [==============================] - 0s - loss: 63.3836 - acc: 0.0200 - val_loss: 21.7951 - val_acc: 0.0000e+00\n",
      "Epoch 6/30\n",
      "450/450 [==============================] - 0s - loss: 63.6992 - acc: 0.0111 - val_loss: 37.0711 - val_acc: 0.0179\n",
      "Epoch 7/30\n",
      "450/450 [==============================] - 0s - loss: 62.9575 - acc: 0.0111 - val_loss: 46.7137 - val_acc: 0.0000e+00\n",
      "Epoch 8/30\n",
      "450/450 [==============================] - 0s - loss: 63.8660 - acc: 0.0067 - val_loss: 21.7100 - val_acc: 0.0000e+00\n",
      "Epoch 9/30\n",
      "450/450 [==============================] - 0s - loss: 63.5897 - acc: 0.0111 - val_loss: 27.4974 - val_acc: 0.0179\n",
      "Epoch 10/30\n",
      "450/450 [==============================] - 0s - loss: 62.4581 - acc: 0.0067 - val_loss: 17.2153 - val_acc: 0.0357\n",
      "Epoch 11/30\n",
      "450/450 [==============================] - 0s - loss: 64.3384 - acc: 0.0067 - val_loss: 28.1983 - val_acc: 0.0179\n",
      "Epoch 12/30\n",
      "450/450 [==============================] - 0s - loss: 64.3191 - acc: 0.0089 - val_loss: 36.8420 - val_acc: 0.0179\n",
      "Epoch 13/30\n",
      "450/450 [==============================] - 0s - loss: 61.5812 - acc: 0.0067 - val_loss: 29.0277 - val_acc: 0.0179\n",
      "Epoch 14/30\n",
      "450/450 [==============================] - 0s - loss: 62.2848 - acc: 0.0044 - val_loss: 26.2922 - val_acc: 0.0179\n",
      "Epoch 15/30\n",
      "450/450 [==============================] - 0s - loss: 61.8414 - acc: 0.0111 - val_loss: 28.6575 - val_acc: 0.0179\n",
      "Epoch 16/30\n",
      "450/450 [==============================] - 0s - loss: 62.0287 - acc: 0.0111 - val_loss: 36.0583 - val_acc: 0.0179\n",
      "Epoch 17/30\n",
      "450/450 [==============================] - 0s - loss: 65.1037 - acc: 0.0089 - val_loss: 16.6589 - val_acc: 0.0357\n",
      "Epoch 18/30\n",
      "450/450 [==============================] - 0s - loss: 62.8020 - acc: 0.0133 - val_loss: 22.9972 - val_acc: 0.0000e+00\n",
      "Epoch 19/30\n",
      "450/450 [==============================] - 0s - loss: 61.0642 - acc: 0.0089 - val_loss: 17.4118 - val_acc: 0.0536\n",
      "Epoch 20/30\n",
      "450/450 [==============================] - 0s - loss: 62.9821 - acc: 0.0067 - val_loss: 50.0460 - val_acc: 0.0000e+00\n",
      "Epoch 21/30\n",
      "450/450 [==============================] - 0s - loss: 63.7895 - acc: 0.0133 - val_loss: 20.6791 - val_acc: 0.0179\n",
      "Epoch 22/30\n",
      "450/450 [==============================] - 0s - loss: 61.0999 - acc: 0.0178 - val_loss: 30.3563 - val_acc: 0.0179\n",
      "Epoch 23/30\n",
      "450/450 [==============================] - 0s - loss: 61.0395 - acc: 0.0133 - val_loss: 33.8235 - val_acc: 0.0179\n",
      "Epoch 24/30\n",
      "450/450 [==============================] - 0s - loss: 61.1531 - acc: 0.0089 - val_loss: 20.3404 - val_acc: 0.0179\n",
      "Epoch 25/30\n",
      "450/450 [==============================] - 0s - loss: 62.8591 - acc: 0.0089 - val_loss: 25.0420 - val_acc: 0.0179\n",
      "Epoch 26/30\n",
      "450/450 [==============================] - 0s - loss: 60.6302 - acc: 0.0111 - val_loss: 57.2778 - val_acc: 0.0000e+00\n",
      "Epoch 27/30\n",
      "450/450 [==============================] - 0s - loss: 59.8372 - acc: 0.0089 - val_loss: 43.0809 - val_acc: 0.0000e+00\n",
      "Epoch 28/30\n",
      "450/450 [==============================] - 0s - loss: 59.8782 - acc: 0.0133 - val_loss: 96.2647 - val_acc: 0.0000e+00\n",
      "Epoch 29/30\n",
      "450/450 [==============================] - 0s - loss: 62.5642 - acc: 0.0156 - val_loss: 75.6188 - val_acc: 0.0000e+00\n",
      "Epoch 30/30\n",
      "450/450 [==============================] - 0s - loss: 61.8164 - acc: 0.0067 - val_loss: 40.9035 - val_acc: 0.0000e+00\n"
     ]
    },
    {
     "data": {
      "text/plain": [
       "<keras.callbacks.History at 0x7fcd133cb550>"
      ]
     },
     "execution_count": 27,
     "metadata": {},
     "output_type": "execute_result"
    }
   ],
   "source": [
    "data = np.loadtxt(\"housing.data\", usecols=(5,13))\n",
    "train = data[0:450,:]\n",
    "testing = data[450:506,:]\n",
    "model = Sequential()\n",
    "model.add(Dense(1, input_shape = (1,)))\n",
    "#model.add(Activation('relu'))\n",
    "model.compile(loss='mean_squared_error',\n",
    "              optimizer='sgd',\n",
    "              metrics=['accuracy'])\n",
    "model.fit(train[:,0], train[:,1], batch_size=40, nb_epoch=30,\n",
    "verbose=1, validation_data=(testing[:,0], testing[:,1]))"
   ]
  }
 ],
 "metadata": {
  "kernelspec": {
   "display_name": "Python 2",
   "language": "python",
   "name": "python2"
  },
  "language_info": {
   "codemirror_mode": {
    "name": "ipython",
    "version": 2
   },
   "file_extension": ".py",
   "mimetype": "text/x-python",
   "name": "python",
   "nbconvert_exporter": "python",
   "pygments_lexer": "ipython2",
   "version": "2.7.11"
  }
 },
 "nbformat": 4,
 "nbformat_minor": 0
}
