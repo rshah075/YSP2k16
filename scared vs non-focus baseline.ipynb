{
 "cells": [
  {
   "cell_type": "code",
   "execution_count": 1,
   "metadata": {
    "collapsed": false
   },
   "outputs": [
    {
     "name": "stderr",
     "output_type": "stream",
     "text": [
      "Using Theano backend.\n",
      "Using gpu device 0: GeForce GTX 480 (CNMeM is disabled, cuDNN not available)\n"
     ]
    }
   ],
   "source": [
    "#nikhil's code modified with dropout and data shift\n",
    "\n",
    "from keras.models import Sequential\n",
    "from keras.layers import LSTM, Dense, Dropout\n",
    "import numpy as np\n",
    "import matplotlib.pyplot as plt\n",
    "% matplotlib inline\n",
    "\n",
    "data_dim = 14\n",
    "timesteps = 2\n",
    "nb_classes = 2\n",
    "batch_size = 2\n",
    "rows = 115\n",
    "signal_num = [3,4,5,6,7,8,9,10,11,12,13,14,15,16]\n",
    "\n",
    "# set up model\n",
    "model = Sequential()\n",
    "model.add(LSTM(32, return_sequences=True, stateful=False,\n",
    "               input_shape=(50, 14)))\n",
    "#model.add(Dropout(0.5))\n",
    "model.add(LSTM(32, stateful=False))\n",
    "#model.add(Dropout(0.5))\n",
    "\n",
    "model.add(Dense(2, activation='softmax'))\n",
    "\n",
    "model.compile(loss='categorical_crossentropy',\n",
    "              optimizer='rmsprop',\n",
    "              metrics=['accuracy'])"
   ]
  },
  {
   "cell_type": "code",
   "execution_count": 2,
   "metadata": {
    "collapsed": false
   },
   "outputs": [
    {
     "name": "stdout",
     "output_type": "stream",
     "text": [
      "(115, 50, 14)\n",
      "(115, 50, 14)\n",
      "(230, 2)\n"
     ]
    }
   ],
   "source": [
    "#get focused data\n",
    "y_train = np.zeros((rows*2, nb_classes))\n",
    "classes = np.zeros(rows*2)\n",
    "focusedData = np.loadtxt(\"base.txt\", delimiter=\",\", skiprows=1)\n",
    "t = 0\n",
    "x = 0\n",
    "focusedSignals = np.zeros((rows, 50, data_dim))\n",
    "signal = 0\n",
    "\n",
    "for n in signal_num:\n",
    "    t = 0\n",
    "    x=0\n",
    "    x_plus=x+timesteps\n",
    "    while t < rows:\n",
    "        for c in range(0,50):\n",
    "            points = np.mean(focusedData[x:x_plus, n])\n",
    "            focusedSignals[t,c,signal] = points\n",
    "            x+=2\n",
    "            x_plus=x+2\n",
    "        t+=1\n",
    "    signal+=1\n",
    "newFocused = focusedSignals - 4400\n",
    "\n",
    "#set one-hot\n",
    "for i in range(0,rows):\n",
    "    y_train[i][0]=1\n",
    "    y_train[i][1]=0\n",
    "    classes[i]=1\n",
    "\n",
    "#get scared data\n",
    "scaredData = np.loadtxt(\"scared.txt\", delimiter=\",\", skiprows=1)\n",
    "t = 0\n",
    "x = 0\n",
    "\n",
    "scaredSignals = np.zeros((rows, 50, data_dim))\n",
    "\n",
    "signal = 0\n",
    "\n",
    "for n in signal_num:\n",
    "    t = 0\n",
    "    x=0\n",
    "    x_plus=x+timesteps\n",
    "    while t < rows:\n",
    "        for c in range(0,50):\n",
    "            points = np.average(scaredData[x:x_plus, n])\n",
    "            scaredSignals[t,c,signal] = points\n",
    "            x+=2\n",
    "            x_plus=x+2\n",
    "        t+=1\n",
    "    signal+=1\n",
    "newScared = scaredSignals - 4400\n",
    "\n",
    "#set focues one-hot\n",
    "for i in range(rows, rows*2):\n",
    "    y_train[i][0]=0\n",
    "    y_train[i][1]=1\n",
    "    classes[i]=0\n",
    "\n",
    "print np.shape(newFocused)\n",
    "print np.shape(newScared)\n",
    "print np.shape(y_train)\n",
    "signals = np.vstack((newFocused,newScared))"
   ]
  },
  {
   "cell_type": "code",
   "execution_count": 3,
   "metadata": {
    "collapsed": false
   },
   "outputs": [
    {
     "name": "stdout",
     "output_type": "stream",
     "text": [
      "(190, 50, 14)\n",
      "(40, 50, 14)\n",
      "(190, 2)\n",
      "(40, 2)\n"
     ]
    }
   ],
   "source": [
    "trainFocus = signals[0:95]\n",
    "testFocus = signals[95:115]\n",
    "trainScared = signals[115:210]\n",
    "testScared = signals[210:230]\n",
    "totalTrain = np.vstack((trainFocus, trainScared))\n",
    "totalTest = np.vstack((testFocus, testScared))\n",
    "\n",
    "trainLabel1 = y_train[0:95]\n",
    "trainLabel2 = y_train[115:210]\n",
    "testLabel1 = y_train[95:115]\n",
    "testLabel2 = y_train[210:230]\n",
    "train_labels = np.vstack((trainLabel1, trainLabel2))\n",
    "test_labels = np.vstack((testLabel1, testLabel2))\n",
    "\n",
    "print np.shape(totalTrain)\n",
    "print np.shape(totalTest)\n",
    "print np.shape(train_labels)\n",
    "print np.shape(test_labels)"
   ]
  },
  {
   "cell_type": "code",
   "execution_count": 4,
   "metadata": {
    "collapsed": false
   },
   "outputs": [
    {
     "name": "stdout",
     "output_type": "stream",
     "text": [
      "Train on 190 samples, validate on 40 samples\n",
      "Epoch 1/100\n",
      "190/190 [==============================] - 12s - loss: 0.6618 - acc: 0.5789 - val_loss: 0.7001 - val_acc: 0.5500\n",
      "Epoch 2/100\n",
      "190/190 [==============================] - 12s - loss: 0.4810 - acc: 0.8053 - val_loss: 0.8175 - val_acc: 0.4750\n",
      "Epoch 3/100\n",
      "190/190 [==============================] - 12s - loss: 0.4151 - acc: 0.8263 - val_loss: 0.6908 - val_acc: 0.6500\n",
      "Epoch 4/100\n",
      "190/190 [==============================] - 13s - loss: 0.3518 - acc: 0.8526 - val_loss: 0.7519 - val_acc: 0.6250\n",
      "Epoch 5/100\n",
      "190/190 [==============================] - 17s - loss: 0.3248 - acc: 0.8737 - val_loss: 0.7032 - val_acc: 0.6750\n",
      "Epoch 6/100\n",
      "190/190 [==============================] - 17s - loss: 0.2549 - acc: 0.8947 - val_loss: 1.0072 - val_acc: 0.6500\n",
      "Epoch 7/100\n",
      "190/190 [==============================] - 17s - loss: 0.2431 - acc: 0.8895 - val_loss: 0.7619 - val_acc: 0.7000\n",
      "Epoch 8/100\n",
      "190/190 [==============================] - 17s - loss: 0.2264 - acc: 0.9105 - val_loss: 0.6525 - val_acc: 0.7750\n",
      "Epoch 9/100\n",
      "190/190 [==============================] - 17s - loss: 0.1839 - acc: 0.9211 - val_loss: 0.6616 - val_acc: 0.8000\n",
      "Epoch 10/100\n",
      "190/190 [==============================] - 22s - loss: 0.1738 - acc: 0.9368 - val_loss: 0.6092 - val_acc: 0.7750\n",
      "Epoch 11/100\n",
      "190/190 [==============================] - 23s - loss: 0.1876 - acc: 0.9368 - val_loss: 0.7281 - val_acc: 0.8000\n",
      "Epoch 12/100\n",
      "190/190 [==============================] - 23s - loss: 0.1965 - acc: 0.9263 - val_loss: 1.0731 - val_acc: 0.7000\n",
      "Epoch 13/100\n",
      "190/190 [==============================] - 23s - loss: 0.0888 - acc: 0.9684 - val_loss: 0.7047 - val_acc: 0.8250\n",
      "Epoch 14/100\n",
      "190/190 [==============================] - 23s - loss: 0.0914 - acc: 0.9737 - val_loss: 0.9421 - val_acc: 0.8250\n",
      "Epoch 15/100\n",
      "190/190 [==============================] - 23s - loss: 0.1490 - acc: 0.9474 - val_loss: 0.6666 - val_acc: 0.8750\n",
      "Epoch 16/100\n",
      "190/190 [==============================] - 23s - loss: 0.0749 - acc: 0.9789 - val_loss: 1.1090 - val_acc: 0.7750\n",
      "Epoch 17/100\n",
      "190/190 [==============================] - 23s - loss: 0.0925 - acc: 0.9737 - val_loss: 0.7702 - val_acc: 0.8250\n",
      "Epoch 18/100\n",
      "190/190 [==============================] - 23s - loss: 0.1010 - acc: 0.9789 - val_loss: 1.1956 - val_acc: 0.8000\n",
      "Epoch 19/100\n",
      "190/190 [==============================] - 23s - loss: 0.1502 - acc: 0.9632 - val_loss: 0.5550 - val_acc: 0.8750\n",
      "Epoch 20/100\n",
      "190/190 [==============================] - 23s - loss: 0.1013 - acc: 0.9737 - val_loss: 0.8015 - val_acc: 0.8250\n",
      "Epoch 21/100\n",
      "188/190 [============================>.] - ETA: 0s - loss: 0.0451 - acc: 0.9894"
     ]
    },
    {
     "ename": "KeyboardInterrupt",
     "evalue": "",
     "output_type": "error",
     "traceback": [
      "\u001b[1;31m---------------------------------------------------------------------------\u001b[0m",
      "\u001b[1;31mKeyboardInterrupt\u001b[0m                         Traceback (most recent call last)",
      "\u001b[1;32m<ipython-input-4-0d81d5d2e3fd>\u001b[0m in \u001b[0;36m<module>\u001b[1;34m()\u001b[0m\n\u001b[0;32m      1\u001b[0m error_and_acc = model.fit(totalTrain, train_labels, shuffle = True, \n\u001b[0;32m      2\u001b[0m                           \u001b[0mbatch_size\u001b[0m\u001b[1;33m=\u001b[0m\u001b[0mbatch_size\u001b[0m\u001b[1;33m,\u001b[0m \u001b[0mnb_epoch\u001b[0m\u001b[1;33m=\u001b[0m\u001b[1;36m100\u001b[0m\u001b[1;33m,\u001b[0m \u001b[0mvalidation_data\u001b[0m\u001b[1;33m=\u001b[0m\u001b[1;33m(\u001b[0m\u001b[0mtotalTest\u001b[0m\u001b[1;33m,\u001b[0m \u001b[0mtest_labels\u001b[0m\u001b[1;33m)\u001b[0m\u001b[1;33m,\u001b[0m\u001b[1;33m\u001b[0m\u001b[0m\n\u001b[1;32m----> 3\u001b[1;33m                           verbose = 1)\n\u001b[0m",
      "\u001b[1;32m/home/rohanshah/anaconda2/lib/python2.7/site-packages/keras/models.pyc\u001b[0m in \u001b[0;36mfit\u001b[1;34m(self, x, y, batch_size, nb_epoch, verbose, callbacks, validation_split, validation_data, shuffle, class_weight, sample_weight, **kwargs)\u001b[0m\n\u001b[0;32m    406\u001b[0m                               \u001b[0mshuffle\u001b[0m\u001b[1;33m=\u001b[0m\u001b[0mshuffle\u001b[0m\u001b[1;33m,\u001b[0m\u001b[1;33m\u001b[0m\u001b[0m\n\u001b[0;32m    407\u001b[0m                               \u001b[0mclass_weight\u001b[0m\u001b[1;33m=\u001b[0m\u001b[0mclass_weight\u001b[0m\u001b[1;33m,\u001b[0m\u001b[1;33m\u001b[0m\u001b[0m\n\u001b[1;32m--> 408\u001b[1;33m                               sample_weight=sample_weight)\n\u001b[0m\u001b[0;32m    409\u001b[0m \u001b[1;33m\u001b[0m\u001b[0m\n\u001b[0;32m    410\u001b[0m     def evaluate(self, x, y, batch_size=32, verbose=1,\n",
      "\u001b[1;32m/home/rohanshah/anaconda2/lib/python2.7/site-packages/keras/engine/training.pyc\u001b[0m in \u001b[0;36mfit\u001b[1;34m(self, x, y, batch_size, nb_epoch, verbose, callbacks, validation_split, validation_data, shuffle, class_weight, sample_weight)\u001b[0m\n\u001b[0;32m   1051\u001b[0m                               \u001b[0mverbose\u001b[0m\u001b[1;33m=\u001b[0m\u001b[0mverbose\u001b[0m\u001b[1;33m,\u001b[0m \u001b[0mcallbacks\u001b[0m\u001b[1;33m=\u001b[0m\u001b[0mcallbacks\u001b[0m\u001b[1;33m,\u001b[0m\u001b[1;33m\u001b[0m\u001b[0m\n\u001b[0;32m   1052\u001b[0m                               \u001b[0mval_f\u001b[0m\u001b[1;33m=\u001b[0m\u001b[0mval_f\u001b[0m\u001b[1;33m,\u001b[0m \u001b[0mval_ins\u001b[0m\u001b[1;33m=\u001b[0m\u001b[0mval_ins\u001b[0m\u001b[1;33m,\u001b[0m \u001b[0mshuffle\u001b[0m\u001b[1;33m=\u001b[0m\u001b[0mshuffle\u001b[0m\u001b[1;33m,\u001b[0m\u001b[1;33m\u001b[0m\u001b[0m\n\u001b[1;32m-> 1053\u001b[1;33m                               callback_metrics=callback_metrics)\n\u001b[0m\u001b[0;32m   1054\u001b[0m \u001b[1;33m\u001b[0m\u001b[0m\n\u001b[0;32m   1055\u001b[0m     \u001b[1;32mdef\u001b[0m \u001b[0mevaluate\u001b[0m\u001b[1;33m(\u001b[0m\u001b[0mself\u001b[0m\u001b[1;33m,\u001b[0m \u001b[0mx\u001b[0m\u001b[1;33m,\u001b[0m \u001b[0my\u001b[0m\u001b[1;33m,\u001b[0m \u001b[0mbatch_size\u001b[0m\u001b[1;33m=\u001b[0m\u001b[1;36m32\u001b[0m\u001b[1;33m,\u001b[0m \u001b[0mverbose\u001b[0m\u001b[1;33m=\u001b[0m\u001b[1;36m1\u001b[0m\u001b[1;33m,\u001b[0m \u001b[0msample_weight\u001b[0m\u001b[1;33m=\u001b[0m\u001b[0mNone\u001b[0m\u001b[1;33m)\u001b[0m\u001b[1;33m:\u001b[0m\u001b[1;33m\u001b[0m\u001b[0m\n",
      "\u001b[1;32m/home/rohanshah/anaconda2/lib/python2.7/site-packages/keras/engine/training.pyc\u001b[0m in \u001b[0;36m_fit_loop\u001b[1;34m(self, f, ins, out_labels, batch_size, nb_epoch, verbose, callbacks, val_f, val_ins, shuffle, callback_metrics)\u001b[0m\n\u001b[0;32m    804\u001b[0m                         val_outs = self._test_loop(val_f, val_ins,\n\u001b[0;32m    805\u001b[0m                                                    \u001b[0mbatch_size\u001b[0m\u001b[1;33m=\u001b[0m\u001b[0mbatch_size\u001b[0m\u001b[1;33m,\u001b[0m\u001b[1;33m\u001b[0m\u001b[0m\n\u001b[1;32m--> 806\u001b[1;33m                                                    verbose=0)\n\u001b[0m\u001b[0;32m    807\u001b[0m                         \u001b[1;32mif\u001b[0m \u001b[0mtype\u001b[0m\u001b[1;33m(\u001b[0m\u001b[0mval_outs\u001b[0m\u001b[1;33m)\u001b[0m \u001b[1;33m!=\u001b[0m \u001b[0mlist\u001b[0m\u001b[1;33m:\u001b[0m\u001b[1;33m\u001b[0m\u001b[0m\n\u001b[0;32m    808\u001b[0m                             \u001b[0mval_outs\u001b[0m \u001b[1;33m=\u001b[0m \u001b[1;33m[\u001b[0m\u001b[0mval_outs\u001b[0m\u001b[1;33m]\u001b[0m\u001b[1;33m\u001b[0m\u001b[0m\n",
      "\u001b[1;32m/home/rohanshah/anaconda2/lib/python2.7/site-packages/keras/engine/training.pyc\u001b[0m in \u001b[0;36m_test_loop\u001b[1;34m(self, f, ins, batch_size, verbose)\u001b[0m\n\u001b[0;32m    889\u001b[0m                 \u001b[0mins_batch\u001b[0m \u001b[1;33m=\u001b[0m \u001b[0mslice_X\u001b[0m\u001b[1;33m(\u001b[0m\u001b[0mins\u001b[0m\u001b[1;33m,\u001b[0m \u001b[0mbatch_ids\u001b[0m\u001b[1;33m)\u001b[0m\u001b[1;33m\u001b[0m\u001b[0m\n\u001b[0;32m    890\u001b[0m \u001b[1;33m\u001b[0m\u001b[0m\n\u001b[1;32m--> 891\u001b[1;33m             \u001b[0mbatch_outs\u001b[0m \u001b[1;33m=\u001b[0m \u001b[0mf\u001b[0m\u001b[1;33m(\u001b[0m\u001b[0mins_batch\u001b[0m\u001b[1;33m)\u001b[0m\u001b[1;33m\u001b[0m\u001b[0m\n\u001b[0m\u001b[0;32m    892\u001b[0m             \u001b[1;32mif\u001b[0m \u001b[0mtype\u001b[0m\u001b[1;33m(\u001b[0m\u001b[0mbatch_outs\u001b[0m\u001b[1;33m)\u001b[0m \u001b[1;33m==\u001b[0m \u001b[0mlist\u001b[0m\u001b[1;33m:\u001b[0m\u001b[1;33m\u001b[0m\u001b[0m\n\u001b[0;32m    893\u001b[0m                 \u001b[1;32mif\u001b[0m \u001b[0mbatch_index\u001b[0m \u001b[1;33m==\u001b[0m \u001b[1;36m0\u001b[0m\u001b[1;33m:\u001b[0m\u001b[1;33m\u001b[0m\u001b[0m\n",
      "\u001b[1;32m/home/rohanshah/anaconda2/lib/python2.7/site-packages/keras/backend/theano_backend.pyc\u001b[0m in \u001b[0;36m__call__\u001b[1;34m(self, inputs)\u001b[0m\n\u001b[0;32m    516\u001b[0m     \u001b[1;32mdef\u001b[0m \u001b[0m__call__\u001b[0m\u001b[1;33m(\u001b[0m\u001b[0mself\u001b[0m\u001b[1;33m,\u001b[0m \u001b[0minputs\u001b[0m\u001b[1;33m)\u001b[0m\u001b[1;33m:\u001b[0m\u001b[1;33m\u001b[0m\u001b[0m\n\u001b[0;32m    517\u001b[0m         \u001b[1;32massert\u001b[0m \u001b[0mtype\u001b[0m\u001b[1;33m(\u001b[0m\u001b[0minputs\u001b[0m\u001b[1;33m)\u001b[0m \u001b[1;32min\u001b[0m \u001b[1;33m{\u001b[0m\u001b[0mlist\u001b[0m\u001b[1;33m,\u001b[0m \u001b[0mtuple\u001b[0m\u001b[1;33m}\u001b[0m\u001b[1;33m\u001b[0m\u001b[0m\n\u001b[1;32m--> 518\u001b[1;33m         \u001b[1;32mreturn\u001b[0m \u001b[0mself\u001b[0m\u001b[1;33m.\u001b[0m\u001b[0mfunction\u001b[0m\u001b[1;33m(\u001b[0m\u001b[1;33m*\u001b[0m\u001b[0minputs\u001b[0m\u001b[1;33m)\u001b[0m\u001b[1;33m\u001b[0m\u001b[0m\n\u001b[0m\u001b[0;32m    519\u001b[0m \u001b[1;33m\u001b[0m\u001b[0m\n\u001b[0;32m    520\u001b[0m \u001b[1;33m\u001b[0m\u001b[0m\n",
      "\u001b[1;32m/home/rohanshah/anaconda2/lib/python2.7/site-packages/theano/compile/function_module.pyc\u001b[0m in \u001b[0;36m__call__\u001b[1;34m(self, *args, **kwargs)\u001b[0m\n\u001b[0;32m    857\u001b[0m         \u001b[0mt0_fn\u001b[0m \u001b[1;33m=\u001b[0m \u001b[0mtime\u001b[0m\u001b[1;33m.\u001b[0m\u001b[0mtime\u001b[0m\u001b[1;33m(\u001b[0m\u001b[1;33m)\u001b[0m\u001b[1;33m\u001b[0m\u001b[0m\n\u001b[0;32m    858\u001b[0m         \u001b[1;32mtry\u001b[0m\u001b[1;33m:\u001b[0m\u001b[1;33m\u001b[0m\u001b[0m\n\u001b[1;32m--> 859\u001b[1;33m             \u001b[0moutputs\u001b[0m \u001b[1;33m=\u001b[0m \u001b[0mself\u001b[0m\u001b[1;33m.\u001b[0m\u001b[0mfn\u001b[0m\u001b[1;33m(\u001b[0m\u001b[1;33m)\u001b[0m\u001b[1;33m\u001b[0m\u001b[0m\n\u001b[0m\u001b[0;32m    860\u001b[0m         \u001b[1;32mexcept\u001b[0m \u001b[0mException\u001b[0m\u001b[1;33m:\u001b[0m\u001b[1;33m\u001b[0m\u001b[0m\n\u001b[0;32m    861\u001b[0m             \u001b[1;32mif\u001b[0m \u001b[0mhasattr\u001b[0m\u001b[1;33m(\u001b[0m\u001b[0mself\u001b[0m\u001b[1;33m.\u001b[0m\u001b[0mfn\u001b[0m\u001b[1;33m,\u001b[0m \u001b[1;34m'position_of_error'\u001b[0m\u001b[1;33m)\u001b[0m\u001b[1;33m:\u001b[0m\u001b[1;33m\u001b[0m\u001b[0m\n",
      "\u001b[1;32m/home/rohanshah/anaconda2/lib/python2.7/site-packages/theano/scan_module/scan_op.pyc\u001b[0m in \u001b[0;36mrval\u001b[1;34m(p, i, o, n, allow_gc)\u001b[0m\n\u001b[0;32m    949\u001b[0m         def rval(p=p, i=node_input_storage, o=node_output_storage, n=node,\n\u001b[0;32m    950\u001b[0m                  allow_gc=allow_gc):\n\u001b[1;32m--> 951\u001b[1;33m             \u001b[0mr\u001b[0m \u001b[1;33m=\u001b[0m \u001b[0mp\u001b[0m\u001b[1;33m(\u001b[0m\u001b[0mn\u001b[0m\u001b[1;33m,\u001b[0m \u001b[1;33m[\u001b[0m\u001b[0mx\u001b[0m\u001b[1;33m[\u001b[0m\u001b[1;36m0\u001b[0m\u001b[1;33m]\u001b[0m \u001b[1;32mfor\u001b[0m \u001b[0mx\u001b[0m \u001b[1;32min\u001b[0m \u001b[0mi\u001b[0m\u001b[1;33m]\u001b[0m\u001b[1;33m,\u001b[0m \u001b[0mo\u001b[0m\u001b[1;33m)\u001b[0m\u001b[1;33m\u001b[0m\u001b[0m\n\u001b[0m\u001b[0;32m    952\u001b[0m             \u001b[1;32mfor\u001b[0m \u001b[0mo\u001b[0m \u001b[1;32min\u001b[0m \u001b[0mnode\u001b[0m\u001b[1;33m.\u001b[0m\u001b[0moutputs\u001b[0m\u001b[1;33m:\u001b[0m\u001b[1;33m\u001b[0m\u001b[0m\n\u001b[0;32m    953\u001b[0m                 \u001b[0mcompute_map\u001b[0m\u001b[1;33m[\u001b[0m\u001b[0mo\u001b[0m\u001b[1;33m]\u001b[0m\u001b[1;33m[\u001b[0m\u001b[1;36m0\u001b[0m\u001b[1;33m]\u001b[0m \u001b[1;33m=\u001b[0m \u001b[0mTrue\u001b[0m\u001b[1;33m\u001b[0m\u001b[0m\n",
      "\u001b[1;32m/home/rohanshah/anaconda2/lib/python2.7/site-packages/theano/scan_module/scan_op.pyc\u001b[0m in \u001b[0;36m<lambda>\u001b[1;34m(node, args, outs)\u001b[0m\n\u001b[0;32m    938\u001b[0m                         \u001b[0margs\u001b[0m\u001b[1;33m,\u001b[0m\u001b[1;33m\u001b[0m\u001b[0m\n\u001b[0;32m    939\u001b[0m                         \u001b[0mouts\u001b[0m\u001b[1;33m,\u001b[0m\u001b[1;33m\u001b[0m\u001b[0m\n\u001b[1;32m--> 940\u001b[1;33m                         self, node)\n\u001b[0m\u001b[0;32m    941\u001b[0m         \u001b[1;32mexcept\u001b[0m \u001b[1;33m(\u001b[0m\u001b[0mImportError\u001b[0m\u001b[1;33m,\u001b[0m \u001b[0mtheano\u001b[0m\u001b[1;33m.\u001b[0m\u001b[0mgof\u001b[0m\u001b[1;33m.\u001b[0m\u001b[0mcmodule\u001b[0m\u001b[1;33m.\u001b[0m\u001b[0mMissingGXX\u001b[0m\u001b[1;33m)\u001b[0m\u001b[1;33m:\u001b[0m\u001b[1;33m\u001b[0m\u001b[0m\n\u001b[0;32m    942\u001b[0m             \u001b[0mp\u001b[0m \u001b[1;33m=\u001b[0m \u001b[0mself\u001b[0m\u001b[1;33m.\u001b[0m\u001b[0mexecute\u001b[0m\u001b[1;33m\u001b[0m\u001b[0m\n",
      "\u001b[1;31mKeyboardInterrupt\u001b[0m: "
     ]
    }
   ],
   "source": [
    "error_and_acc = model.fit(totalTrain, train_labels, shuffle = True, \n",
    "                          batch_size=batch_size, nb_epoch=100, validation_data=(totalTest, test_labels),\n",
    "                          verbose = 1)"
   ]
  }
 ],
 "metadata": {
  "kernelspec": {
   "display_name": "Python 2",
   "language": "python",
   "name": "python2"
  },
  "language_info": {
   "codemirror_mode": {
    "name": "ipython",
    "version": 2
   },
   "file_extension": ".py",
   "mimetype": "text/x-python",
   "name": "python",
   "nbconvert_exporter": "python",
   "pygments_lexer": "ipython2",
   "version": "2.7.11"
  }
 },
 "nbformat": 4,
 "nbformat_minor": 0
}
