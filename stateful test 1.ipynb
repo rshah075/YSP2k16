{
 "cells": [
  {
   "cell_type": "code",
   "execution_count": null,
   "metadata": {
    "collapsed": true
   },
   "outputs": [],
   "source": [
    "from keras.models import Sequential\n",
    "from keras.layers import LSTM, Dense, Dropout\n",
    "import numpy as np\n",
    "\n",
    "data_dim = 4\n",
    "timesteps = 50\n",
    "nb_classes = 2\n",
    "batch_size = 100\n",
    "rows = 2300\n",
    "signal_num = [3,4,5,15]\n",
    "\n",
    "# set up model\n",
    "model = Sequential()\n",
    "model.add(LSTM(128, return_sequences=True, stateful=True,\n",
    "               batch_input_shape=(batch_size, timesteps, data_dim)))\n",
    "\n",
    "model.add(LSTM(128, stateful=True))\n",
    "\n",
    "\n",
    "model.add(Dense(2, activation='softmax'))\n",
    "\n",
    "model.compile(loss='categorical_crossentropy',\n",
    "              optimizer='rmsprop',\n",
    "              metrics=['accuracy'])"
   ]
  },
  {
   "cell_type": "code",
   "execution_count": null,
   "metadata": {
    "collapsed": true
   },
   "outputs": [],
   "source": [
    "#get focused data\n",
    "y_train = np.zeros((rows*2, nb_classes))\n",
    "classes = np.zeros(rows*2)\n",
    "focusedData = np.loadtxt(\"focus_base.csv\", delimiter=\",\", skiprows=1)\n",
    "t = 0\n",
    "x = 0\n",
    "focusedSignals = np.zeros((rows, timesteps, 4))\n",
    "signal_num = [3,4,5,15]\n",
    "signal = 0\n",
    "\n",
    "for n in signal_num:\n",
    "    t = 0\n",
    "    x=0\n",
    "    x_plus=x+timesteps\n",
    "    while t < rows:\n",
    "        points = focusedData[x:x_plus, n]\n",
    "        focusedSignals[t,0:timesteps,signal] = points\n",
    "        t+=1\n",
    "        x+=5\n",
    "        x_plus=x+50\n",
    "    signal+=1\n",
    "\n",
    "#set one-hot\n",
    "for i in range(0,rows):\n",
    "    y_train[i][0]=1\n",
    "    y_train[i][1]=0\n",
    "    classes[i]=1\n",
    "\n",
    "#get scared data\n",
    "scaredData = np.loadtxt(\"scared.txt\", delimiter=\",\", skiprows=1)\n",
    "t = 0\n",
    "x = 0\n",
    "\n",
    "scaredSignals = np.zeros((rows, timesteps, data_dim))\n",
    "signal_num = [15,4,3,5]\n",
    "signal = 0\n",
    "\n",
    "for n in signal_num:\n",
    "    t = 0\n",
    "    x = 0\n",
    "    x_plus=x+timesteps\n",
    "    while t < rows:\n",
    "        points = scaredData[x:x_plus, n]\n",
    "        scaredSignals[t,0:timesteps,signal] = points\n",
    "        t+=1\n",
    "        x+=5\n",
    "        x_plus=x+50\n",
    "    signal+=1\n",
    "\n",
    "#set focues one-hot\n",
    "for i in range(rows, rows*2):\n",
    "    y_train[i][0]=0\n",
    "    y_train[i][1]=1\n",
    "    classes[i]=0\n",
    "    \n",
    "signals = np.vstack((focusedSignals,scaredSignals))"
   ]
  },
  {
   "cell_type": "code",
   "execution_count": null,
   "metadata": {
    "collapsed": true
   },
   "outputs": [],
   "source": [
    "#fit\n",
    "model.fit(signals, y_train, shuffle = True,\n",
    "          batch_size=batch_size, nb_epoch=200, verbose = 1)"
   ]
  }
 ],
 "metadata": {
  "kernelspec": {
   "display_name": "Python 2",
   "language": "python",
   "name": "python2"
  },
  "language_info": {
   "codemirror_mode": {
    "name": "ipython",
    "version": 2
   },
   "file_extension": ".py",
   "mimetype": "text/x-python",
   "name": "python",
   "nbconvert_exporter": "python",
   "pygments_lexer": "ipython2",
   "version": "2.7.11"
  }
 },
 "nbformat": 4,
 "nbformat_minor": 0
}
