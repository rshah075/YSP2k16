{
 "cells": [
  {
   "cell_type": "code",
   "execution_count": 1,
   "metadata": {
    "collapsed": true
   },
   "outputs": [],
   "source": [
    "import os\n",
    "#choose \"cpu\" or \"gpu\"\n",
    "os.environ['THEANO FLAGS']= 'device=gpu'\n",
    "\n",
    "#following line is useful for fast compilation while using Cpu\n",
    "#os.environ['THEANO FLAGS']= 'mode=FAST_COMPILE'\n",
    "\n",
    "#following line is useful for fast compilation while using Gpu\n",
    "os.environ['THEANO FLAGS']= 'optimizer=fast_compile'"
   ]
  },
  {
   "cell_type": "code",
   "execution_count": 4,
   "metadata": {
    "collapsed": false
   },
   "outputs": [],
   "source": [
    "import matplotlib.pyplot as plt\n",
    "import random\n",
    "import keras as model\n",
    "from keras.models import Sequential\n",
    "from keras.layers import Dense, Dropout, Activation, Flatten\n",
    "from keras.layers import Convolution2D, MaxPooling2D\n",
    "from keras.utils import np_utils\n",
    "% matplotlib inline\n",
    "\n",
    "from keras.models import Sequential\n",
    "from keras.layers import LSTM, Dense\n",
    "import numpy as np"
   ]
  },
  {
   "cell_type": "code",
   "execution_count": 90,
   "metadata": {
    "collapsed": false
   },
   "outputs": [],
   "source": [
    "data = np.loadtxt(\"focus_base.csv\", delimiter=\",\", skiprows=1)"
   ]
  },
  {
   "cell_type": "code",
   "execution_count": 147,
   "metadata": {
    "collapsed": false
   },
   "outputs": [],
   "source": [
    "eeg_signals = np.zeros((230, 50, 4))\n",
    "signal_num = [15,4,3,5]\n",
    "signal = 0\n",
    "for n in signal_num:\n",
    "    t = 0\n",
    "    x=0\n",
    "    x_plus=x+50\n",
    "    while t < 230:\n",
    "        points = data[x:x_plus, n]\n",
    "        eeg_signals[t,0:50,signal] = points\n",
    "        t+=1\n",
    "        x+=50\n",
    "        x_plus=x+50\n",
    "    signal+=1"
   ]
  }
 ],
 "metadata": {
  "kernelspec": {
   "display_name": "Python 2",
   "language": "python",
   "name": "python2"
  },
  "language_info": {
   "codemirror_mode": {
    "name": "ipython",
    "version": 2
   },
   "file_extension": ".py",
   "mimetype": "text/x-python",
   "name": "python",
   "nbconvert_exporter": "python",
   "pygments_lexer": "ipython2",
   "version": "2.7.11"
  }
 },
 "nbformat": 4,
 "nbformat_minor": 0
}
